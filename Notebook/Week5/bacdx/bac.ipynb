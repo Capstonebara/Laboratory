{
  "cells": [
    {
      "cell_type": "code",
      "execution_count": 2,
      "metadata": {
        "colab": {
          "base_uri": "https://localhost:8080/"
        },
        "id": "nEE2kzE6aT-I",
        "outputId": "5017d8ff-aad6-478f-fa66-309ea521c7d2"
      },
      "outputs": [
        {
          "output_type": "stream",
          "name": "stdout",
          "text": [
            "2.4.0+cu121\n",
            "True\n"
          ]
        }
      ],
      "source": [
        "import torch\n",
        "import numpy as np\n",
        "\n",
        "print(torch.__version__)\n",
        "print(torch.cuda.is_available())"
      ]
    },
    {
      "cell_type": "markdown",
      "metadata": {
        "id": "xRWXFIMLaT-J"
      },
      "source": [
        "## Basic Tensor"
      ]
    },
    {
      "cell_type": "code",
      "execution_count": 3,
      "metadata": {
        "colab": {
          "base_uri": "https://localhost:8080/"
        },
        "id": "QdeRQZMVaT-K",
        "outputId": "4e1cf35c-9921-414e-f92d-60732c2ee040"
      },
      "outputs": [
        {
          "output_type": "execute_result",
          "data": {
            "text/plain": [
              "(tensor([[0.2914, 0.6685, 0.2271],\n",
              "         [0.5631, 0.1829, 0.0471],\n",
              "         [0.5195, 0.8450, 0.6883],\n",
              "         [0.0443, 0.5472, 0.1924]]),\n",
              " tensor([[0.5322, 0.1716, 0.2875],\n",
              "         [0.9586, 0.6919, 0.7555],\n",
              "         [0.2160, 0.5998, 0.6735],\n",
              "         [0.8820, 0.8708, 0.2692]]),\n",
              " tensor([[0.4603, 0.1570, 0.2827, 0.1913, 0.8550],\n",
              "         [0.6116, 0.6364, 0.1229, 0.7199, 0.5347],\n",
              "         [0.3349, 0.7698, 0.3914, 0.0439, 0.6933]]))"
            ]
          },
          "metadata": {},
          "execution_count": 3
        }
      ],
      "source": [
        "#Create sample tensors\n",
        "a = torch.rand(4,3)\n",
        "b = torch.rand(4,3)\n",
        "c = torch.rand(3,5)\n",
        "a, b, c"
      ]
    },
    {
      "cell_type": "code",
      "execution_count": 4,
      "metadata": {
        "colab": {
          "base_uri": "https://localhost:8080/"
        },
        "id": "fBctX3JCaT-K",
        "outputId": "a90b413a-d92f-475f-efc7-3076ee238f90"
      },
      "outputs": [
        {
          "output_type": "execute_result",
          "data": {
            "text/plain": [
              "tensor([[0.8236, 0.8402, 0.5146],\n",
              "        [1.5217, 0.8749, 0.8026],\n",
              "        [0.7354, 1.4448, 1.3618],\n",
              "        [0.9264, 1.4180, 0.4615]])"
            ]
          },
          "metadata": {},
          "execution_count": 4
        }
      ],
      "source": [
        "#Tensor addition\n",
        "torch.add(a,b)"
      ]
    },
    {
      "cell_type": "code",
      "execution_count": 5,
      "metadata": {
        "colab": {
          "base_uri": "https://localhost:8080/"
        },
        "id": "qfxmC4oMaT-K",
        "outputId": "99d041e0-9be0-4eb6-88c9-e69f5374f04f"
      },
      "outputs": [
        {
          "output_type": "execute_result",
          "data": {
            "text/plain": [
              "tensor([[0.6191, 0.6460, 0.2535, 0.5470, 0.7641],\n",
              "        [0.3868, 0.2411, 0.2001, 0.2414, 0.6119],\n",
              "        [0.9864, 1.1491, 0.5201, 0.7378, 1.3731],\n",
              "        [0.4195, 0.5033, 0.1551, 0.4108, 0.4639]])"
            ]
          },
          "metadata": {},
          "execution_count": 5
        }
      ],
      "source": [
        "#Tensor multiplication\n",
        "torch.mm(a, c)"
      ]
    },
    {
      "cell_type": "code",
      "execution_count": 6,
      "metadata": {
        "colab": {
          "base_uri": "https://localhost:8080/"
        },
        "id": "8jHsj8xxaT-K",
        "outputId": "544d4372-3305-4f37-9001-399324051b8f"
      },
      "outputs": [
        {
          "output_type": "execute_result",
          "data": {
            "text/plain": [
              "tensor([[0.6191, 0.6460, 0.2535, 0.5470, 0.7641],\n",
              "        [0.3868, 0.2411, 0.2001, 0.2414, 0.6119],\n",
              "        [0.9864, 1.1491, 0.5201, 0.7378, 1.3731],\n",
              "        [0.4195, 0.5033, 0.1551, 0.4108, 0.4639]])"
            ]
          },
          "metadata": {},
          "execution_count": 6
        }
      ],
      "source": [
        "#Tensor multiplication v2\n",
        "torch.matmul(a, c)"
      ]
    },
    {
      "cell_type": "code",
      "execution_count": 7,
      "metadata": {
        "colab": {
          "base_uri": "https://localhost:8080/"
        },
        "id": "VVZiqq5ZaT-L",
        "outputId": "3fd89f37-6e17-4c7b-ce21-e5fd16eb1443"
      },
      "outputs": [
        {
          "output_type": "execute_result",
          "data": {
            "text/plain": [
              "array([[0.29144782, 0.66854995, 0.2271474 ],\n",
              "       [0.5631038 , 0.18293345, 0.04708451],\n",
              "       [0.5194556 , 0.84498894, 0.6882874 ],\n",
              "       [0.04434669, 0.54717827, 0.19238156]], dtype=float32)"
            ]
          },
          "metadata": {},
          "execution_count": 7
        }
      ],
      "source": [
        "#Convert to np array\n",
        "a = a.numpy()\n",
        "a"
      ]
    },
    {
      "cell_type": "code",
      "execution_count": 8,
      "metadata": {
        "colab": {
          "base_uri": "https://localhost:8080/"
        },
        "id": "H2X6sUKYaT-L",
        "outputId": "c2c0d35c-add9-4b61-f6a6-3f5a9892336b"
      },
      "outputs": [
        {
          "output_type": "execute_result",
          "data": {
            "text/plain": [
              "tensor([[0.5322, 0.1716, 0.2875],\n",
              "        [0.9586, 0.6919, 0.7555],\n",
              "        [0.2160, 0.5998, 0.6735],\n",
              "        [0.8820, 0.8708, 0.2692]])"
            ]
          },
          "metadata": {},
          "execution_count": 8
        }
      ],
      "source": [
        "#Reshape\n",
        "b.reshape(3,4)\n",
        "b"
      ]
    },
    {
      "cell_type": "code",
      "execution_count": 9,
      "metadata": {
        "colab": {
          "base_uri": "https://localhost:8080/"
        },
        "id": "q3eMzPkmaT-L",
        "outputId": "b60bdaab-ddc7-45b8-b7d2-55c38eac9b44"
      },
      "outputs": [
        {
          "output_type": "execute_result",
          "data": {
            "text/plain": [
              "tensor([[0.4603, 0.6116, 0.3349],\n",
              "        [0.1570, 0.6364, 0.7698],\n",
              "        [0.2827, 0.1229, 0.3914],\n",
              "        [0.1913, 0.7199, 0.0439],\n",
              "        [0.8550, 0.5347, 0.6933]])"
            ]
          },
          "metadata": {},
          "execution_count": 9
        }
      ],
      "source": [
        "#Transpose\n",
        "c.T"
      ]
    },
    {
      "cell_type": "markdown",
      "metadata": {
        "id": "0k15eCN4aT-L"
      },
      "source": [
        "## Simple MLP"
      ]
    },
    {
      "cell_type": "code",
      "execution_count": 10,
      "metadata": {
        "id": "YyrdUvQkaT-L"
      },
      "outputs": [],
      "source": [
        "import torch.nn as nn\n",
        "from sklearn import datasets\n",
        "import matplotlib.pyplot as plt\n",
        "import torch.nn.functional as F\n",
        "from tqdm import tqdm"
      ]
    },
    {
      "cell_type": "code",
      "execution_count": 11,
      "metadata": {
        "id": "xLZEuZf7aT-L"
      },
      "outputs": [],
      "source": [
        "#Prepare data\n",
        "X_numpy, y_numpy = datasets.make_regression(n_samples=100, n_features=1, noise=20, random_state=42)\n",
        "\n",
        "#cast to float Tensor\n",
        "X = torch.from_numpy(X_numpy.astype(np.float32))\n",
        "y = torch.from_numpy(y_numpy.astype(np.float32))\n",
        "y = y.view(y.shape[0], 1)\n",
        "\n",
        "n_samples, n_features = X.shape"
      ]
    },
    {
      "cell_type": "code",
      "execution_count": 12,
      "metadata": {
        "id": "My0S5iJ6aT-L"
      },
      "outputs": [],
      "source": [
        "class MLP(nn.Module):\n",
        "    def __init__(self):\n",
        "        super(MLP, self).__init__()\n",
        "        self.fc1 = nn.Linear(in_features=n_features, out_features=2)\n",
        "        self.fc2 = nn.Linear(2, 1)\n",
        "\n",
        "    def forward(self, x):\n",
        "        x = (self.fc1(x))\n",
        "        x = (self.fc2(x))\n",
        "        return x"
      ]
    },
    {
      "cell_type": "code",
      "execution_count": 13,
      "metadata": {
        "id": "ByQv_fV3aT-M"
      },
      "outputs": [],
      "source": [
        "model = MLP()"
      ]
    },
    {
      "cell_type": "code",
      "execution_count": 14,
      "metadata": {
        "id": "Nft7EhDqaT-M"
      },
      "outputs": [],
      "source": [
        "learning_rate = 0.01\n",
        "criterion = nn.MSELoss()\n",
        "optimizer = torch.optim.SGD(model.parameters(), lr=learning_rate)"
      ]
    },
    {
      "cell_type": "code",
      "execution_count": 15,
      "metadata": {
        "colab": {
          "base_uri": "https://localhost:8080/"
        },
        "id": "t7ZeN4XzaT-M",
        "outputId": "b01346d5-f8a1-469c-f05d-4b1bd84c0b26"
      },
      "outputs": [
        {
          "output_type": "stream",
          "name": "stdout",
          "text": [
            "epoch: 10, loss = 312.2418\n",
            "epoch: 20, loss = 312.2170\n",
            "epoch: 30, loss = 312.2170\n",
            "epoch: 40, loss = 312.2170\n",
            "epoch: 50, loss = 312.2170\n",
            "epoch: 60, loss = 312.2170\n",
            "epoch: 70, loss = 312.2170\n",
            "epoch: 80, loss = 312.2170\n",
            "epoch: 90, loss = 312.2170\n",
            "epoch: 100, loss = 312.2170\n"
          ]
        }
      ],
      "source": [
        "#Training loop\n",
        "num_epochs = 100\n",
        "for epoch in range(num_epochs):\n",
        "    #Forward pass and loss\n",
        "    y_predicted = model(X)\n",
        "    loss = criterion(y_predicted, y)\n",
        "\n",
        "    #Backward pass and update\n",
        "    loss.backward()\n",
        "    optimizer.step()\n",
        "\n",
        "    #Zero grad before new step\n",
        "    optimizer.zero_grad()\n",
        "\n",
        "    if (epoch+1) % 10 == 0:\n",
        "        print(f'epoch: {epoch+1}, loss = {loss.item():.4f}')"
      ]
    },
    {
      "cell_type": "code",
      "execution_count": 16,
      "metadata": {
        "colab": {
          "base_uri": "https://localhost:8080/",
          "height": 430
        },
        "id": "lUw0wmCmaT-M",
        "outputId": "5396a6c5-4a55-45ae-a614-45e635689d3c"
      },
      "outputs": [
        {
          "output_type": "display_data",
          "data": {
            "text/plain": [
              "<Figure size 640x480 with 1 Axes>"
            ],
            "image/png": "[encoded data removed]"
          },
          "metadata": {}
        }
      ],
      "source": [
        "#Plot\n",
        "predicted = model(X).detach().numpy()\n",
        "\n",
        "plt.plot(X_numpy, y_numpy, 'ro')\n",
        "plt.plot(X_numpy, predicted, 'b')\n",
        "plt.show()"
      ]
    },
    {
      "cell_type": "markdown",
      "metadata": {
        "id": "SV78Ms69aT-M"
      },
      "source": [
        "## CNN MNIST"
      ]
    },
    {
      "cell_type": "code",
      "execution_count": 17,
      "metadata": {
        "id": "l_UrVS9BaT-M"
      },
      "outputs": [],
      "source": [
        "import torchvision\n",
        "import torchvision.transforms as transforms"
      ]
    },
    {
      "cell_type": "code",
      "execution_count": 18,
      "metadata": {
        "colab": {
          "base_uri": "https://localhost:8080/"
        },
        "id": "xckbLteZaT-M",
        "outputId": "f48fce4c-1219-4f6b-af90-68ff43afe597"
      },
      "outputs": [
        {
          "output_type": "stream",
          "name": "stdout",
          "text": [
            "Downloading http://yann.lecun.com/exdb/mnist/train-images-idx3-ubyte.gz\n",
            "Failed to download (trying next):\n",
            "HTTP Error 403: Forbidden\n",
            "\n",
            "Downloading https://ossci-datasets.s3.amazonaws.com/mnist/train-images-idx3-ubyte.gz\n",
            "Downloading https://ossci-datasets.s3.amazonaws.com/mnist/train-images-idx3-ubyte.gz to ./data/MNIST/raw/train-images-idx3-ubyte.gz\n"
          ]
        },
        {
          "output_type": "stream",
          "name": "stderr",
          "text": [
            "100%|██████████| 9912422/9912422 [00:03<00:00, 2672506.37it/s]\n"
          ]
        },
        {
          "output_type": "stream",
          "name": "stdout",
          "text": [
            "Extracting ./data/MNIST/raw/train-images-idx3-ubyte.gz to ./data/MNIST/raw\n",
            "\n",
            "Downloading http://yann.lecun.com/exdb/mnist/train-labels-idx1-ubyte.gz\n",
            "Failed to download (trying next):\n",
            "HTTP Error 403: Forbidden\n",
            "\n",
            "Downloading https://ossci-datasets.s3.amazonaws.com/mnist/train-labels-idx1-ubyte.gz\n",
            "Downloading https://ossci-datasets.s3.amazonaws.com/mnist/train-labels-idx1-ubyte.gz to ./data/MNIST/raw/train-labels-idx1-ubyte.gz\n"
          ]
        },
        {
          "output_type": "stream",
          "name": "stderr",
          "text": [
            "100%|██████████| 28881/28881 [00:00<00:00, 495053.76it/s]\n"
          ]
        },
        {
          "output_type": "stream",
          "name": "stdout",
          "text": [
            "Extracting ./data/MNIST/raw/train-labels-idx1-ubyte.gz to ./data/MNIST/raw\n",
            "\n",
            "Downloading http://yann.lecun.com/exdb/mnist/t10k-images-idx3-ubyte.gz\n",
            "Failed to download (trying next):\n",
            "HTTP Error 403: Forbidden\n",
            "\n",
            "Downloading https://ossci-datasets.s3.amazonaws.com/mnist/t10k-images-idx3-ubyte.gz\n",
            "Downloading https://ossci-datasets.s3.amazonaws.com/mnist/t10k-images-idx3-ubyte.gz to ./data/MNIST/raw/t10k-images-idx3-ubyte.gz\n"
          ]
        },
        {
          "output_type": "stream",
          "name": "stderr",
          "text": [
            "100%|██████████| 1648877/1648877 [00:01<00:00, 915513.36it/s] \n"
          ]
        },
        {
          "output_type": "stream",
          "name": "stdout",
          "text": [
            "Extracting ./data/MNIST/raw/t10k-images-idx3-ubyte.gz to ./data/MNIST/raw\n",
            "\n",
            "Downloading http://yann.lecun.com/exdb/mnist/t10k-labels-idx1-ubyte.gz\n",
            "Failed to download (trying next):\n",
            "HTTP Error 403: Forbidden\n",
            "\n",
            "Downloading https://ossci-datasets.s3.amazonaws.com/mnist/t10k-labels-idx1-ubyte.gz\n",
            "Downloading https://ossci-datasets.s3.amazonaws.com/mnist/t10k-labels-idx1-ubyte.gz to ./data/MNIST/raw/t10k-labels-idx1-ubyte.gz\n"
          ]
        },
        {
          "output_type": "stream",
          "name": "stderr",
          "text": [
            "100%|██████████| 4542/4542 [00:00<00:00, 4124383.80it/s]"
          ]
        },
        {
          "output_type": "stream",
          "name": "stdout",
          "text": [
            "Extracting ./data/MNIST/raw/t10k-labels-idx1-ubyte.gz to ./data/MNIST/raw\n",
            "\n"
          ]
        },
        {
          "output_type": "stream",
          "name": "stderr",
          "text": [
            "\n"
          ]
        }
      ],
      "source": [
        "#MNIST dataset\n",
        "train_dataset = torchvision.datasets.MNIST(root='./data',\n",
        "                                           train=True,\n",
        "                                           transform=transforms.ToTensor(),\n",
        "                                           download=True)\n",
        "\n",
        "test_dataset = torchvision.datasets.MNIST(root='./data',\n",
        "                                          train=False,\n",
        "                                          transform=transforms.ToTensor())\n",
        "\n",
        "#Data loader\n",
        "train_loader = torch.utils.data.DataLoader(dataset=train_dataset,\n",
        "                                           batch_size=64,\n",
        "                                           shuffle=True)\n",
        "\n",
        "test_loader = torch.utils.data.DataLoader(dataset=test_dataset,\n",
        "                                          batch_size=64,\n",
        "                                          shuffle=False)"
      ]
    },
    {
      "cell_type": "code",
      "execution_count": 19,
      "metadata": {
        "colab": {
          "base_uri": "https://localhost:8080/",
          "height": 411
        },
        "id": "IgtKQYUnaT-M",
        "outputId": "bbe93d0c-e10a-4bc5-bd68-4c6c1c4d21b0"
      },
      "outputs": [
        {
          "output_type": "display_data",
          "data": {
            "text/plain": [
              "<Figure size 640x480 with 6 Axes>"
            ],
            "image/png": "[encoded data removed]"
          },
          "metadata": {}
        }
      ],
      "source": [
        "examples = iter(test_loader)\n",
        "example_data, example_targets = next(examples)\n",
        "\n",
        "for i in range(6):\n",
        "    plt.subplot(2,3,i+1)\n",
        "    plt.imshow(example_data[i][0], cmap='gray')\n",
        "plt.show()"
      ]
    },
    {
      "cell_type": "code",
      "execution_count": 20,
      "metadata": {
        "id": "vyPD5N7JaT-M"
      },
      "outputs": [],
      "source": [
        "class ConvNet(nn.Module):\n",
        "    def __init__(self):\n",
        "        super(ConvNet, self).__init__()\n",
        "        self.conv1 = nn.Conv2d(1, 6, 5)\n",
        "        self.pool = nn.MaxPool2d(2, 2)\n",
        "        self.conv2 = nn.Conv2d(6, 16, 5)\n",
        "        self.fc1 = nn.Linear(16 * 4 * 4, 120)\n",
        "        self.fc2 = nn.Linear(120, 84)\n",
        "        self.fc3 = nn.Linear(84, 10)\n",
        "\n",
        "    def forward(self, x):\n",
        "        x = self.pool(F.relu(self.conv1(x)))  #24,24,6 -> 12,12,6\n",
        "        x = self.pool(F.relu(self.conv2(x)))  #8,8,16 -> 4,4,16\n",
        "        x = x.view(-1, 16 * 4 * 4)  #Flatten\n",
        "        x = F.relu(self.fc1(x))   #FC\n",
        "        x = F.relu(self.fc2(x))   #FC\n",
        "        x = self.fc3(x)\n",
        "        return x\n"
      ]
    },
    {
      "cell_type": "code",
      "execution_count": 21,
      "metadata": {
        "id": "dbBuJbbiaT-N"
      },
      "outputs": [],
      "source": [
        "def train_step(model, epoch, loss_function, optimizer, loss_train_epoch):\n",
        "    model.train()\n",
        "    epoch_loss = []\n",
        "    correct = 0\n",
        "    loop = tqdm(enumerate(train_loader))\n",
        "    loop.set_description(f\"Epoch {epoch}\")\n",
        "    for batch_idx, (data, target) in loop:\n",
        "\n",
        "        data, target = data.to(device='cuda'), target.to(device='cuda')\n",
        "\n",
        "        output = model(data)\n",
        "        loss = loss_function(output, target)\n",
        "        epoch_loss.append(loss.item())\n",
        "        pred = output.argmax(dim=1, keepdim=True)\n",
        "        correct += pred.eq(target.view_as(pred)).sum().item()\n",
        "\n",
        "        optimizer.zero_grad()\n",
        "        loss.backward()\n",
        "        optimizer.step()\n",
        "\n",
        "        loop.set_postfix(\n",
        "            {\n",
        "                \"Iter\": \"[{}/{}] | Epoch_Loss: {} | Batch_Loss: {} | Accuracy: {:.0f}%\".format(\n",
        "                    batch_idx * len(data),\n",
        "                    len(train_loader.dataset),\n",
        "                    sum(epoch_loss) / len(epoch_loss),\n",
        "                    loss.item(),\n",
        "                    100.0 * correct / len(train_loader.dataset)\n",
        "                ),\n",
        "            }\n",
        "        )\n",
        "    loss_train_epoch.append(sum(epoch_loss) / len(epoch_loss))\n",
        "\n",
        "    return loss_train_epoch\n",
        "\n",
        "\n",
        "def test(model, loss_function, loss_test_epoch, epoch_auc_history):\n",
        "    model.eval()\n",
        "    test_loss_list = []\n",
        "    correct = 0\n",
        "    with torch.no_grad():\n",
        "        for data, target in test_loader:\n",
        "            data, target = data.to(device='cuda'), target.to(device='cuda')\n",
        "\n",
        "            output = model(data)\n",
        "            test_loss_list.append(loss_function(output, target).item())\n",
        "            pred = output.argmax(dim=1, keepdim=True)\n",
        "            correct += pred.eq(target.view_as(pred)).sum().item()\n",
        "\n",
        "    test_loss = sum(test_loss_list) / len(test_loss_list)\n",
        "    loss_test_epoch.append(test_loss)\n",
        "    epoch_auc_history.append(correct / 100)\n",
        "\n",
        "    print(\n",
        "        \"Test set: Average loss: {:.4f} | Accuracy: {}/{} ({:.0f}%)\\n\".format(\n",
        "            test_loss,\n",
        "            correct,\n",
        "            len(test_loader.dataset),\n",
        "            100.0 * correct / len(test_loader.dataset),\n",
        "        )\n",
        "    )\n",
        "\n",
        "    return correct, loss_test_epoch, epoch_auc_history"
      ]
    },
    {
      "cell_type": "code",
      "execution_count": 22,
      "metadata": {
        "colab": {
          "base_uri": "https://localhost:8080/"
        },
        "id": "wPLZujh0aT-N",
        "outputId": "544c2cb1-0beb-401a-f239-ae0e9555bcd0"
      },
      "outputs": [
        {
          "output_type": "stream",
          "name": "stderr",
          "text": [
            "Epoch 1: : 938it [00:14, 64.61it/s, Iter=[29984/60000] | Epoch_Loss: 2.276901212582456 | Batch_Loss: 2.122720956802368 | Accuracy: 19%]\n"
          ]
        },
        {
          "output_type": "stream",
          "name": "stdout",
          "text": [
            "Test set: Average loss: 2.1308 | Accuracy: 5911/10000 (59%)\n",
            "\n"
          ]
        },
        {
          "output_type": "stream",
          "name": "stderr",
          "text": [
            "Epoch 2: : 938it [00:13, 68.76it/s, Iter=[29984/60000] | Epoch_Loss: 0.6913612598279265 | Batch_Loss: 0.41989782452583313 | Accuracy: 82%]\n"
          ]
        },
        {
          "output_type": "stream",
          "name": "stdout",
          "text": [
            "Test set: Average loss: 0.4109 | Accuracy: 8562/10000 (86%)\n",
            "\n"
          ]
        },
        {
          "output_type": "stream",
          "name": "stderr",
          "text": [
            "Epoch 3: : 938it [00:13, 71.65it/s, Iter=[29984/60000] | Epoch_Loss: 0.2432773117341403 | Batch_Loss: 0.3886612355709076 | Accuracy: 93%]\n"
          ]
        },
        {
          "output_type": "stream",
          "name": "stdout",
          "text": [
            "Test set: Average loss: 0.1916 | Accuracy: 9416/10000 (94%)\n",
            "\n"
          ]
        },
        {
          "output_type": "stream",
          "name": "stderr",
          "text": [
            "Epoch 4: : 938it [00:13, 71.40it/s, Iter=[29984/60000] | Epoch_Loss: 0.17282372422770523 | Batch_Loss: 0.04263412207365036 | Accuracy: 95%]\n"
          ]
        },
        {
          "output_type": "stream",
          "name": "stdout",
          "text": [
            "Test set: Average loss: 0.1296 | Accuracy: 9599/10000 (96%)\n",
            "\n"
          ]
        },
        {
          "output_type": "stream",
          "name": "stderr",
          "text": [
            "Epoch 5: : 938it [00:13, 71.35it/s, Iter=[29984/60000] | Epoch_Loss: 0.13547512087355384 | Batch_Loss: 0.07061547785997391 | Accuracy: 96%]\n"
          ]
        },
        {
          "output_type": "stream",
          "name": "stdout",
          "text": [
            "Test set: Average loss: 0.1105 | Accuracy: 9666/10000 (97%)\n",
            "\n"
          ]
        },
        {
          "output_type": "stream",
          "name": "stderr",
          "text": [
            "Epoch 6: : 938it [00:13, 71.74it/s, Iter=[29984/60000] | Epoch_Loss: 0.11138917185636217 | Batch_Loss: 0.13771091401576996 | Accuracy: 97%]\n"
          ]
        },
        {
          "output_type": "stream",
          "name": "stdout",
          "text": [
            "Test set: Average loss: 0.1000 | Accuracy: 9666/10000 (97%)\n",
            "\n"
          ]
        },
        {
          "output_type": "stream",
          "name": "stderr",
          "text": [
            "Epoch 7: : 938it [00:13, 71.10it/s, Iter=[29984/60000] | Epoch_Loss: 0.1008532813845524 | Batch_Loss: 0.3751433193683624 | Accuracy: 97%]\n"
          ]
        },
        {
          "output_type": "stream",
          "name": "stdout",
          "text": [
            "Test set: Average loss: 0.0957 | Accuracy: 9686/10000 (97%)\n",
            "\n"
          ]
        },
        {
          "output_type": "stream",
          "name": "stderr",
          "text": [
            "Epoch 8: : 938it [00:13, 72.09it/s, Iter=[29984/60000] | Epoch_Loss: 0.09213230511479413 | Batch_Loss: 0.029430754482746124 | Accuracy: 97%]\n"
          ]
        },
        {
          "output_type": "stream",
          "name": "stdout",
          "text": [
            "Test set: Average loss: 0.0769 | Accuracy: 9741/10000 (97%)\n",
            "\n"
          ]
        },
        {
          "output_type": "stream",
          "name": "stderr",
          "text": [
            "Epoch 9: : 938it [00:13, 71.05it/s, Iter=[29984/60000] | Epoch_Loss: 0.08578374267105005 | Batch_Loss: 0.042579494416713715 | Accuracy: 97%]\n"
          ]
        },
        {
          "output_type": "stream",
          "name": "stdout",
          "text": [
            "Test set: Average loss: 0.0805 | Accuracy: 9747/10000 (97%)\n",
            "\n"
          ]
        },
        {
          "output_type": "stream",
          "name": "stderr",
          "text": [
            "Epoch 10: : 938it [00:13, 70.39it/s, Iter=[29984/60000] | Epoch_Loss: 0.08000175992616697 | Batch_Loss: 0.028810415416955948 | Accuracy: 98%]\n"
          ]
        },
        {
          "output_type": "stream",
          "name": "stdout",
          "text": [
            "Test set: Average loss: 0.0660 | Accuracy: 9779/10000 (98%)\n",
            "\n"
          ]
        },
        {
          "output_type": "stream",
          "name": "stderr",
          "text": [
            "Epoch 11: : 938it [00:13, 70.57it/s, Iter=[29984/60000] | Epoch_Loss: 0.07338510830598727 | Batch_Loss: 0.007822658866643906 | Accuracy: 98%]\n"
          ]
        },
        {
          "output_type": "stream",
          "name": "stdout",
          "text": [
            "Test set: Average loss: 0.0775 | Accuracy: 9747/10000 (97%)\n",
            "\n"
          ]
        },
        {
          "output_type": "stream",
          "name": "stderr",
          "text": [
            "Epoch 12: : 938it [00:13, 70.14it/s, Iter=[29984/60000] | Epoch_Loss: 0.07037814366005694 | Batch_Loss: 0.11075671017169952 | Accuracy: 98%]\n"
          ]
        },
        {
          "output_type": "stream",
          "name": "stdout",
          "text": [
            "Test set: Average loss: 0.0644 | Accuracy: 9782/10000 (98%)\n",
            "\n"
          ]
        },
        {
          "output_type": "stream",
          "name": "stderr",
          "text": [
            "Epoch 13: : 938it [00:13, 71.09it/s, Iter=[29984/60000] | Epoch_Loss: 0.06792220783664156 | Batch_Loss: 0.08026691526174545 | Accuracy: 98%]\n"
          ]
        },
        {
          "output_type": "stream",
          "name": "stdout",
          "text": [
            "Test set: Average loss: 0.0607 | Accuracy: 9798/10000 (98%)\n",
            "\n"
          ]
        },
        {
          "output_type": "stream",
          "name": "stderr",
          "text": [
            "Epoch 14: : 938it [00:13, 71.71it/s, Iter=[29984/60000] | Epoch_Loss: 0.0656816164113041 | Batch_Loss: 0.009568402543663979 | Accuracy: 98%]\n"
          ]
        },
        {
          "output_type": "stream",
          "name": "stdout",
          "text": [
            "Test set: Average loss: 0.0570 | Accuracy: 9819/10000 (98%)\n",
            "\n"
          ]
        },
        {
          "output_type": "stream",
          "name": "stderr",
          "text": [
            "Epoch 15: : 938it [00:13, 71.18it/s, Iter=[29984/60000] | Epoch_Loss: 0.06287122994233399 | Batch_Loss: 0.14489218592643738 | Accuracy: 98%]\n"
          ]
        },
        {
          "output_type": "stream",
          "name": "stdout",
          "text": [
            "Test set: Average loss: 0.0562 | Accuracy: 9813/10000 (98%)\n",
            "\n"
          ]
        },
        {
          "output_type": "stream",
          "name": "stderr",
          "text": [
            "Epoch 16: : 938it [00:13, 71.15it/s, Iter=[29984/60000] | Epoch_Loss: 0.05953939873124483 | Batch_Loss: 0.0038109528832137585 | Accuracy: 98%]\n"
          ]
        },
        {
          "output_type": "stream",
          "name": "stdout",
          "text": [
            "Test set: Average loss: 0.0582 | Accuracy: 9805/10000 (98%)\n",
            "\n"
          ]
        },
        {
          "output_type": "stream",
          "name": "stderr",
          "text": [
            "Epoch 17: : 938it [00:13, 71.96it/s, Iter=[29984/60000] | Epoch_Loss: 0.05834513037889473 | Batch_Loss: 0.03865615278482437 | Accuracy: 98%]\n"
          ]
        },
        {
          "output_type": "stream",
          "name": "stdout",
          "text": [
            "Test set: Average loss: 0.0529 | Accuracy: 9817/10000 (98%)\n",
            "\n"
          ]
        },
        {
          "output_type": "stream",
          "name": "stderr",
          "text": [
            "Epoch 18: : 938it [00:13, 71.59it/s, Iter=[29984/60000] | Epoch_Loss: 0.05725401509374475 | Batch_Loss: 0.404096394777298 | Accuracy: 98%]\n"
          ]
        },
        {
          "output_type": "stream",
          "name": "stdout",
          "text": [
            "Test set: Average loss: 0.0538 | Accuracy: 9820/10000 (98%)\n",
            "\n"
          ]
        },
        {
          "output_type": "stream",
          "name": "stderr",
          "text": [
            "Epoch 19: : 938it [00:13, 71.87it/s, Iter=[29984/60000] | Epoch_Loss: 0.05579681952880112 | Batch_Loss: 0.010009828954935074 | Accuracy: 98%]\n"
          ]
        },
        {
          "output_type": "stream",
          "name": "stdout",
          "text": [
            "Test set: Average loss: 0.0510 | Accuracy: 9833/10000 (98%)\n",
            "\n"
          ]
        },
        {
          "output_type": "stream",
          "name": "stderr",
          "text": [
            "Epoch 20: : 938it [00:13, 71.55it/s, Iter=[29984/60000] | Epoch_Loss: 0.05455525811197661 | Batch_Loss: 0.008665326982736588 | Accuracy: 98%]\n"
          ]
        },
        {
          "output_type": "stream",
          "name": "stdout",
          "text": [
            "Test set: Average loss: 0.0518 | Accuracy: 9830/10000 (98%)\n",
            "\n"
          ]
        },
        {
          "output_type": "stream",
          "name": "stderr",
          "text": [
            "Epoch 21: : 938it [00:13, 71.66it/s, Iter=[29984/60000] | Epoch_Loss: 0.052388555124036666 | Batch_Loss: 0.0159305352717638 | Accuracy: 98%]\n"
          ]
        },
        {
          "output_type": "stream",
          "name": "stdout",
          "text": [
            "Test set: Average loss: 0.0531 | Accuracy: 9822/10000 (98%)\n",
            "\n"
          ]
        },
        {
          "output_type": "stream",
          "name": "stderr",
          "text": [
            "Epoch 22: : 938it [00:13, 71.72it/s, Iter=[29984/60000] | Epoch_Loss: 0.05171433004969135 | Batch_Loss: 0.013917909935116768 | Accuracy: 98%]\n"
          ]
        },
        {
          "output_type": "stream",
          "name": "stdout",
          "text": [
            "Test set: Average loss: 0.0497 | Accuracy: 9835/10000 (98%)\n",
            "\n"
          ]
        },
        {
          "output_type": "stream",
          "name": "stderr",
          "text": [
            "Epoch 23: : 938it [00:13, 71.83it/s, Iter=[29984/60000] | Epoch_Loss: 0.05098167711385845 | Batch_Loss: 0.0057248445227742195 | Accuracy: 98%]\n"
          ]
        },
        {
          "output_type": "stream",
          "name": "stdout",
          "text": [
            "Test set: Average loss: 0.0491 | Accuracy: 9839/10000 (98%)\n",
            "\n"
          ]
        },
        {
          "output_type": "stream",
          "name": "stderr",
          "text": [
            "Epoch 24: : 938it [00:13, 71.49it/s, Iter=[29984/60000] | Epoch_Loss: 0.05049786215741386 | Batch_Loss: 0.02983233705163002 | Accuracy: 98%]\n"
          ]
        },
        {
          "output_type": "stream",
          "name": "stdout",
          "text": [
            "Test set: Average loss: 0.0467 | Accuracy: 9850/10000 (98%)\n",
            "\n"
          ]
        },
        {
          "output_type": "stream",
          "name": "stderr",
          "text": [
            "Epoch 25: : 938it [00:13, 71.22it/s, Iter=[29984/60000] | Epoch_Loss: 0.04966820969553128 | Batch_Loss: 0.08523456007242203 | Accuracy: 99%]\n"
          ]
        },
        {
          "output_type": "stream",
          "name": "stdout",
          "text": [
            "Test set: Average loss: 0.0478 | Accuracy: 9838/10000 (98%)\n",
            "\n"
          ]
        },
        {
          "output_type": "stream",
          "name": "stderr",
          "text": [
            "Epoch 26: : 938it [00:13, 71.36it/s, Iter=[29984/60000] | Epoch_Loss: 0.04807329500952402 | Batch_Loss: 0.10319729149341583 | Accuracy: 99%]\n"
          ]
        },
        {
          "output_type": "stream",
          "name": "stdout",
          "text": [
            "Test set: Average loss: 0.0467 | Accuracy: 9847/10000 (98%)\n",
            "\n"
          ]
        },
        {
          "output_type": "stream",
          "name": "stderr",
          "text": [
            "Epoch 27: : 938it [00:13, 70.01it/s, Iter=[29984/60000] | Epoch_Loss: 0.04772288152036557 | Batch_Loss: 0.013706586323678493 | Accuracy: 99%]\n"
          ]
        },
        {
          "output_type": "stream",
          "name": "stdout",
          "text": [
            "Test set: Average loss: 0.0462 | Accuracy: 9843/10000 (98%)\n",
            "\n"
          ]
        },
        {
          "output_type": "stream",
          "name": "stderr",
          "text": [
            "Epoch 28: : 938it [00:13, 70.67it/s, Iter=[29984/60000] | Epoch_Loss: 0.04725777166538131 | Batch_Loss: 0.07503525912761688 | Accuracy: 99%]\n"
          ]
        },
        {
          "output_type": "stream",
          "name": "stdout",
          "text": [
            "Test set: Average loss: 0.0485 | Accuracy: 9838/10000 (98%)\n",
            "\n"
          ]
        },
        {
          "output_type": "stream",
          "name": "stderr",
          "text": [
            "Epoch 29: : 938it [00:13, 71.32it/s, Iter=[29984/60000] | Epoch_Loss: 0.04672623169695291 | Batch_Loss: 0.04993245005607605 | Accuracy: 99%]\n"
          ]
        },
        {
          "output_type": "stream",
          "name": "stdout",
          "text": [
            "Test set: Average loss: 0.0496 | Accuracy: 9835/10000 (98%)\n",
            "\n"
          ]
        }
      ],
      "source": [
        "num_epochs = 30\n",
        "learning_rate = 0.01\n",
        "loss_train_epoch = []\n",
        "epoch_auc_history = []\n",
        "loss_test_epoch = []\n",
        "\n",
        "model = ConvNet().to(device='cuda')\n",
        "\n",
        "loss_function = nn.CrossEntropyLoss()\n",
        "optimizer = torch.optim.SGD(model.parameters(), lr=learning_rate)\n",
        "scheduler = torch.optim.lr_scheduler.StepLR(optimizer, step_size=5, gamma=0.7)\n",
        "\n",
        "for epoch in range(1, num_epochs):\n",
        "    loss_train_epoch = train_step(model, epoch, loss_function, optimizer, loss_train_epoch)\n",
        "\n",
        "    acc, loss_test_epoch, epoch_auc_history = test(model, loss_function, loss_test_epoch, epoch_auc_history)\n",
        "\n",
        "    scheduler.step()\n"
      ]
    },
    {
      "cell_type": "code",
      "execution_count": 24,
      "metadata": {
        "colab": {
          "base_uri": "https://localhost:8080/"
        },
        "id": "3R-8nsi_aT-N",
        "outputId": "e091e00b-eb42-4dbb-9194-c271c78560ad"
      },
      "outputs": [
        {
          "output_type": "stream",
          "name": "stdout",
          "text": [
            "Accuracy of the network: 98.35 %\n",
            "Accuracy of 0: 99.39 %\n",
            "Accuracy of 1: 99.30 %\n",
            "Accuracy of 2: 98.55 %\n",
            "Accuracy of 3: 99.11 %\n",
            "Accuracy of 4: 98.98 %\n",
            "Accuracy of 5: 97.53 %\n",
            "Accuracy of 6: 98.33 %\n",
            "Accuracy of 7: 98.44 %\n",
            "Accuracy of 8: 97.02 %\n",
            "Accuracy of 9: 96.63 %\n"
          ]
        }
      ],
      "source": [
        "classes = ['0','1','2','3','4','5','6','7','8','9']\n",
        "\n",
        "with torch.no_grad():\n",
        "    n_correct = 0\n",
        "    n_samples = 0\n",
        "    n_class_correct = [0 for _ in range(10)]\n",
        "    n_class_samples = [0 for _ in range(10)]\n",
        "\n",
        "    for images, labels in test_loader:\n",
        "        images = images.to(device='cuda')\n",
        "        labels = labels.to(device='cuda')\n",
        "        outputs = model(images)\n",
        "        #Max returns (value ,index)\n",
        "        _, predicted = torch.max(outputs, 1)\n",
        "        n_samples += labels.size(0)\n",
        "        n_correct += (predicted == labels).sum().item()\n",
        "\n",
        "        for i in range(labels.size(0)):  # Iterate only through actual batch size\n",
        "            label = labels[i]\n",
        "            pred = predicted[i]\n",
        "            if label == pred:\n",
        "                n_class_correct[label] += 1\n",
        "            n_class_samples[label] += 1\n",
        "\n",
        "    # Overall accuracy\n",
        "    acc = 100.0 * n_correct / n_samples\n",
        "    print(f'Accuracy of the network: {acc:.2f} %')\n",
        "\n",
        "    # Accuracy for each class\n",
        "    for i in range(10):\n",
        "        if n_class_samples[i] > 0:  # To avoid division by zero\n",
        "            acc = 100.0 * n_class_correct[i] / n_class_samples[i]\n",
        "            print(f'Accuracy of {classes[i]}: {acc:.2f} %')\n",
        "        else:\n",
        "            print(f'Accuracy of {classes[i]}: No samples')"
      ]
    },
    {
      "cell_type": "markdown",
      "metadata": {
        "id": "qHUYq2EtaT-N"
      },
      "source": [
        "## Transfer Learning"
      ]
    },
    {
      "cell_type": "code",
      "execution_count": 31,
      "metadata": {
        "id": "lGDz7mjvaT-N"
      },
      "outputs": [],
      "source": [
        "import torchvision\n",
        "import torchvision.transforms as transforms"
      ]
    },
    {
      "cell_type": "code",
      "execution_count": 32,
      "metadata": {
        "colab": {
          "base_uri": "https://localhost:8080/"
        },
        "id": "14F2muZpaT-N",
        "outputId": "42c5df83-01d9-4e55-f7a1-47fd257a619f"
      },
      "outputs": [
        {
          "output_type": "stream",
          "name": "stdout",
          "text": [
            "Files already downloaded and verified\n"
          ]
        }
      ],
      "source": [
        "#MNIST dataset\n",
        "train_dataset = torchvision.datasets.CIFAR10(root='./data',\n",
        "                                           train=True,\n",
        "                                           transform=transforms.ToTensor(),\n",
        "                                           download=True)\n",
        "\n",
        "test_dataset = torchvision.datasets.CIFAR10(root='./data',\n",
        "                                          train=False,\n",
        "                                          transform=transforms.ToTensor())\n",
        "\n",
        "#Data loader\n",
        "train_loader = torch.utils.data.DataLoader(dataset=train_dataset,\n",
        "                                           batch_size=128,\n",
        "                                           shuffle=True)\n",
        "\n",
        "test_loader = torch.utils.data.DataLoader(dataset=test_dataset,\n",
        "                                          batch_size=128,\n",
        "                                          shuffle=False)"
      ]
    },
    {
      "cell_type": "code",
      "execution_count": 44,
      "metadata": {
        "colab": {
          "base_uri": "https://localhost:8080/"
        },
        "id": "rMD7tmamaT-N",
        "outputId": "39c6a0c6-16dd-42b4-84eb-e8007c0ab285"
      },
      "outputs": [
        {
          "output_type": "execute_result",
          "data": {
            "text/plain": [
              "ResNet(\n",
              "  (conv1): Conv2d(3, 64, kernel_size=(7, 7), stride=(2, 2), padding=(3, 3), bias=False)\n",
              "  (bn1): BatchNorm2d(64, eps=1e-05, momentum=0.1, affine=True, track_running_stats=True)\n",
              "  (relu): ReLU(inplace=True)\n",
              "  (maxpool): MaxPool2d(kernel_size=3, stride=2, padding=1, dilation=1, ceil_mode=False)\n",
              "  (layer1): Sequential(\n",
              "    (0): BasicBlock(\n",
              "      (conv1): Conv2d(64, 64, kernel_size=(3, 3), stride=(1, 1), padding=(1, 1), bias=False)\n",
              "      (bn1): BatchNorm2d(64, eps=1e-05, momentum=0.1, affine=True, track_running_stats=True)\n",
              "      (relu): ReLU(inplace=True)\n",
              "      (conv2): Conv2d(64, 64, kernel_size=(3, 3), stride=(1, 1), padding=(1, 1), bias=False)\n",
              "      (bn2): BatchNorm2d(64, eps=1e-05, momentum=0.1, affine=True, track_running_stats=True)\n",
              "    )\n",
              "    (1): BasicBlock(\n",
              "      (conv1): Conv2d(64, 64, kernel_size=(3, 3), stride=(1, 1), padding=(1, 1), bias=False)\n",
              "      (bn1): BatchNorm2d(64, eps=1e-05, momentum=0.1, affine=True, track_running_stats=True)\n",
              "      (relu): ReLU(inplace=True)\n",
              "      (conv2): Conv2d(64, 64, kernel_size=(3, 3), stride=(1, 1), padding=(1, 1), bias=False)\n",
              "      (bn2): BatchNorm2d(64, eps=1e-05, momentum=0.1, affine=True, track_running_stats=True)\n",
              "    )\n",
              "  )\n",
              "  (layer2): Sequential(\n",
              "    (0): BasicBlock(\n",
              "      (conv1): Conv2d(64, 128, kernel_size=(3, 3), stride=(2, 2), padding=(1, 1), bias=False)\n",
              "      (bn1): BatchNorm2d(128, eps=1e-05, momentum=0.1, affine=True, track_running_stats=True)\n",
              "      (relu): ReLU(inplace=True)\n",
              "      (conv2): Conv2d(128, 128, kernel_size=(3, 3), stride=(1, 1), padding=(1, 1), bias=False)\n",
              "      (bn2): BatchNorm2d(128, eps=1e-05, momentum=0.1, affine=True, track_running_stats=True)\n",
              "      (downsample): Sequential(\n",
              "        (0): Conv2d(64, 128, kernel_size=(1, 1), stride=(2, 2), bias=False)\n",
              "        (1): BatchNorm2d(128, eps=1e-05, momentum=0.1, affine=True, track_running_stats=True)\n",
              "      )\n",
              "    )\n",
              "    (1): BasicBlock(\n",
              "      (conv1): Conv2d(128, 128, kernel_size=(3, 3), stride=(1, 1), padding=(1, 1), bias=False)\n",
              "      (bn1): BatchNorm2d(128, eps=1e-05, momentum=0.1, affine=True, track_running_stats=True)\n",
              "      (relu): ReLU(inplace=True)\n",
              "      (conv2): Conv2d(128, 128, kernel_size=(3, 3), stride=(1, 1), padding=(1, 1), bias=False)\n",
              "      (bn2): BatchNorm2d(128, eps=1e-05, momentum=0.1, affine=True, track_running_stats=True)\n",
              "    )\n",
              "  )\n",
              "  (layer3): Sequential(\n",
              "    (0): BasicBlock(\n",
              "      (conv1): Conv2d(128, 256, kernel_size=(3, 3), stride=(2, 2), padding=(1, 1), bias=False)\n",
              "      (bn1): BatchNorm2d(256, eps=1e-05, momentum=0.1, affine=True, track_running_stats=True)\n",
              "      (relu): ReLU(inplace=True)\n",
              "      (conv2): Conv2d(256, 256, kernel_size=(3, 3), stride=(1, 1), padding=(1, 1), bias=False)\n",
              "      (bn2): BatchNorm2d(256, eps=1e-05, momentum=0.1, affine=True, track_running_stats=True)\n",
              "      (downsample): Sequential(\n",
              "        (0): Conv2d(128, 256, kernel_size=(1, 1), stride=(2, 2), bias=False)\n",
              "        (1): BatchNorm2d(256, eps=1e-05, momentum=0.1, affine=True, track_running_stats=True)\n",
              "      )\n",
              "    )\n",
              "    (1): BasicBlock(\n",
              "      (conv1): Conv2d(256, 256, kernel_size=(3, 3), stride=(1, 1), padding=(1, 1), bias=False)\n",
              "      (bn1): BatchNorm2d(256, eps=1e-05, momentum=0.1, affine=True, track_running_stats=True)\n",
              "      (relu): ReLU(inplace=True)\n",
              "      (conv2): Conv2d(256, 256, kernel_size=(3, 3), stride=(1, 1), padding=(1, 1), bias=False)\n",
              "      (bn2): BatchNorm2d(256, eps=1e-05, momentum=0.1, affine=True, track_running_stats=True)\n",
              "    )\n",
              "  )\n",
              "  (layer4): Sequential(\n",
              "    (0): BasicBlock(\n",
              "      (conv1): Conv2d(256, 512, kernel_size=(3, 3), stride=(2, 2), padding=(1, 1), bias=False)\n",
              "      (bn1): BatchNorm2d(512, eps=1e-05, momentum=0.1, affine=True, track_running_stats=True)\n",
              "      (relu): ReLU(inplace=True)\n",
              "      (conv2): Conv2d(512, 512, kernel_size=(3, 3), stride=(1, 1), padding=(1, 1), bias=False)\n",
              "      (bn2): BatchNorm2d(512, eps=1e-05, momentum=0.1, affine=True, track_running_stats=True)\n",
              "      (downsample): Sequential(\n",
              "        (0): Conv2d(256, 512, kernel_size=(1, 1), stride=(2, 2), bias=False)\n",
              "        (1): BatchNorm2d(512, eps=1e-05, momentum=0.1, affine=True, track_running_stats=True)\n",
              "      )\n",
              "    )\n",
              "    (1): BasicBlock(\n",
              "      (conv1): Conv2d(512, 512, kernel_size=(3, 3), stride=(1, 1), padding=(1, 1), bias=False)\n",
              "      (bn1): BatchNorm2d(512, eps=1e-05, momentum=0.1, affine=True, track_running_stats=True)\n",
              "      (relu): ReLU(inplace=True)\n",
              "      (conv2): Conv2d(512, 512, kernel_size=(3, 3), stride=(1, 1), padding=(1, 1), bias=False)\n",
              "      (bn2): BatchNorm2d(512, eps=1e-05, momentum=0.1, affine=True, track_running_stats=True)\n",
              "    )\n",
              "  )\n",
              "  (avgpool): AdaptiveAvgPool2d(output_size=(1, 1))\n",
              "  (fc): Linear(in_features=512, out_features=1000, bias=True)\n",
              ")"
            ]
          },
          "metadata": {},
          "execution_count": 44
        }
      ],
      "source": [
        "model_prt = torchvision.models.resnet18(weights=\"DEFAULT\")\n",
        "model_prt"
      ]
    },
    {
      "cell_type": "code",
      "execution_count": 45,
      "metadata": {
        "id": "lMZ1g3s7aT-N"
      },
      "outputs": [],
      "source": [
        "for param in model_prt.parameters():\n",
        "    param.requires_grad = False\n",
        "\n",
        "num_ftrs = model_prt.fc.in_features\n",
        "model_prt.fc = nn.Linear(num_ftrs, 10)"
      ]
    },
    {
      "cell_type": "code",
      "execution_count": 46,
      "metadata": {
        "colab": {
          "base_uri": "https://localhost:8080/"
        },
        "id": "XeYNsiwmaT-O",
        "outputId": "95fc8e07-50be-47ea-b84d-f66eb83f91d2"
      },
      "outputs": [
        {
          "metadata": {
            "tags": null
          },
          "name": "stderr",
          "output_type": "stream",
          "text": [
            "Epoch 1: : 391it [00:26, 14.95it/s, Iter=[31200/50000] | Epoch_Loss: 1.979456399102955 | Batch_Loss: 2.158632278442383 | Accuracy: 37%]\n"
          ]
        },
        {
          "metadata": {
            "tags": null
          },
          "name": "stdout",
          "output_type": "stream",
          "text": [
            "Test set: Average loss: 1.9626 | Accuracy: 3955/10000 (40%)\n",
            "\n"
          ]
        },
        {
          "metadata": {
            "tags": null
          },
          "name": "stderr",
          "output_type": "stream",
          "text": [
            "Epoch 2: : 391it [00:17, 22.85it/s, Iter=[31200/50000] | Epoch_Loss: 1.8769174491048164 | Batch_Loss: 1.7626670598983765 | Accuracy: 40%]\n"
          ]
        },
        {
          "metadata": {
            "tags": null
          },
          "name": "stdout",
          "output_type": "stream",
          "text": [
            "Test set: Average loss: 1.8837 | Accuracy: 3941/10000 (39%)\n",
            "\n"
          ]
        },
        {
          "metadata": {
            "tags": null
          },
          "name": "stderr",
          "output_type": "stream",
          "text": [
            "Epoch 3: : 391it [00:12, 30.08it/s, Iter=[31200/50000] | Epoch_Loss: 1.891085408532711 | Batch_Loss: 1.9920858144760132 | Accuracy: 40%]\n"
          ]
        },
        {
          "metadata": {
            "tags": null
          },
          "name": "stdout",
          "output_type": "stream",
          "text": [
            "Test set: Average loss: 1.9025 | Accuracy: 3969/10000 (40%)\n",
            "\n"
          ]
        },
        {
          "metadata": {
            "tags": null
          },
          "name": "stderr",
          "output_type": "stream",
          "text": [
            "Epoch 4: : 391it [00:13, 29.92it/s, Iter=[31200/50000] | Epoch_Loss: 1.8915052249303559 | Batch_Loss: 2.125781297683716 | Accuracy: 40%]\n"
          ]
        },
        {
          "metadata": {
            "tags": null
          },
          "name": "stdout",
          "output_type": "stream",
          "text": [
            "Test set: Average loss: 1.8990 | Accuracy: 4034/10000 (40%)\n",
            "\n"
          ]
        },
        {
          "metadata": {
            "tags": null
          },
          "name": "stderr",
          "output_type": "stream",
          "text": [
            "Epoch 5: : 391it [00:13, 29.77it/s, Iter=[31200/50000] | Epoch_Loss: 1.9337492839759574 | Batch_Loss: 2.14009428024292 | Accuracy: 40%]\n"
          ]
        },
        {
          "metadata": {
            "tags": null
          },
          "name": "stdout",
          "output_type": "stream",
          "text": [
            "Test set: Average loss: 1.8710 | Accuracy: 4081/10000 (41%)\n",
            "\n"
          ]
        },
        {
          "metadata": {
            "tags": null
          },
          "name": "stderr",
          "output_type": "stream",
          "text": [
            "Epoch 6: : 391it [00:13, 28.84it/s, Iter=[31200/50000] | Epoch_Loss: 1.8254465090344325 | Batch_Loss: 1.7066247463226318 | Accuracy: 41%]\n"
          ]
        },
        {
          "metadata": {
            "tags": null
          },
          "name": "stdout",
          "output_type": "stream",
          "text": [
            "Test set: Average loss: 1.8662 | Accuracy: 4034/10000 (40%)\n",
            "\n"
          ]
        },
        {
          "output_type": "stream",
          "name": "stderr",
          "text": [
            "Epoch 7: : 391it [00:13, 28.61it/s, Iter=[31200/50000] | Epoch_Loss: 1.829673957336894 | Batch_Loss: 2.133934497833252 | Accuracy: 41%]\n"
          ]
        },
        {
          "output_type": "stream",
          "name": "stdout",
          "text": [
            "Test set: Average loss: 1.8361 | Accuracy: 4126/10000 (41%)\n",
            "\n"
          ]
        },
        {
          "output_type": "stream",
          "name": "stderr",
          "text": [
            "Epoch 8: : 391it [00:13, 28.29it/s, Iter=[31200/50000] | Epoch_Loss: 1.816693201089454 | Batch_Loss: 1.7570629119873047 | Accuracy: 41%]\n"
          ]
        },
        {
          "output_type": "stream",
          "name": "stdout",
          "text": [
            "Test set: Average loss: 1.8860 | Accuracy: 4048/10000 (40%)\n",
            "\n"
          ]
        },
        {
          "output_type": "stream",
          "name": "stderr",
          "text": [
            "Epoch 9: : 391it [00:14, 27.47it/s, Iter=[31200/50000] | Epoch_Loss: 1.8213574700343333 | Batch_Loss: 1.8974043130874634 | Accuracy: 41%]\n"
          ]
        },
        {
          "output_type": "stream",
          "name": "stdout",
          "text": [
            "Test set: Average loss: 1.7678 | Accuracy: 4257/10000 (43%)\n",
            "\n"
          ]
        },
        {
          "output_type": "stream",
          "name": "stderr",
          "text": [
            "Epoch 10: : 391it [00:13, 28.69it/s, Iter=[31200/50000] | Epoch_Loss: 1.8251852650776543 | Batch_Loss: 2.0126664638519287 | Accuracy: 41%]\n"
          ]
        },
        {
          "output_type": "stream",
          "name": "stdout",
          "text": [
            "Test set: Average loss: 1.8461 | Accuracy: 4115/10000 (41%)\n",
            "\n"
          ]
        },
        {
          "output_type": "stream",
          "name": "stderr",
          "text": [
            "Epoch 11: : 391it [00:13, 28.79it/s, Iter=[31200/50000] | Epoch_Loss: 1.770217277509782 | Batch_Loss: 1.8418207168579102 | Accuracy: 42%]\n"
          ]
        },
        {
          "output_type": "stream",
          "name": "stdout",
          "text": [
            "Test set: Average loss: 1.8622 | Accuracy: 3899/10000 (39%)\n",
            "\n"
          ]
        },
        {
          "output_type": "stream",
          "name": "stderr",
          "text": [
            "Epoch 12: : 391it [00:13, 28.39it/s, Iter=[31200/50000] | Epoch_Loss: 1.7511746362042244 | Batch_Loss: 1.6589654684066772 | Accuracy: 42%]\n"
          ]
        },
        {
          "output_type": "stream",
          "name": "stdout",
          "text": [
            "Test set: Average loss: 1.7321 | Accuracy: 4263/10000 (43%)\n",
            "\n"
          ]
        },
        {
          "output_type": "stream",
          "name": "stderr",
          "text": [
            "Epoch 13: : 391it [00:13, 28.17it/s, Iter=[31200/50000] | Epoch_Loss: 1.7728483030558242 | Batch_Loss: 1.6746799945831299 | Accuracy: 42%]\n"
          ]
        },
        {
          "output_type": "stream",
          "name": "stdout",
          "text": [
            "Test set: Average loss: 1.7118 | Accuracy: 4286/10000 (43%)\n",
            "\n"
          ]
        },
        {
          "output_type": "stream",
          "name": "stderr",
          "text": [
            "Epoch 14: : 391it [00:13, 28.19it/s, Iter=[31200/50000] | Epoch_Loss: 1.767624265397601 | Batch_Loss: 1.6425950527191162 | Accuracy: 42%]\n"
          ]
        },
        {
          "output_type": "stream",
          "name": "stdout",
          "text": [
            "Test set: Average loss: 1.7505 | Accuracy: 4290/10000 (43%)\n",
            "\n"
          ]
        },
        {
          "output_type": "stream",
          "name": "stderr",
          "text": [
            "Epoch 15: : 391it [00:13, 28.71it/s, Iter=[31200/50000] | Epoch_Loss: 1.7721158144114268 | Batch_Loss: 1.7131723165512085 | Accuracy: 42%]\n"
          ]
        },
        {
          "output_type": "stream",
          "name": "stdout",
          "text": [
            "Test set: Average loss: 1.7507 | Accuracy: 4193/10000 (42%)\n",
            "\n"
          ]
        },
        {
          "output_type": "stream",
          "name": "stderr",
          "text": [
            "Epoch 16: : 391it [00:13, 28.09it/s, Iter=[31200/50000] | Epoch_Loss: 1.703746277962804 | Batch_Loss: 1.4482009410858154 | Accuracy: 43%]\n"
          ]
        },
        {
          "output_type": "stream",
          "name": "stdout",
          "text": [
            "Test set: Average loss: 1.7339 | Accuracy: 4137/10000 (41%)\n",
            "\n"
          ]
        },
        {
          "output_type": "stream",
          "name": "stderr",
          "text": [
            "Epoch 17: : 391it [00:13, 28.54it/s, Iter=[31200/50000] | Epoch_Loss: 1.6953440172897885 | Batch_Loss: 1.4757881164550781 | Accuracy: 43%]\n"
          ]
        },
        {
          "output_type": "stream",
          "name": "stdout",
          "text": [
            "Test set: Average loss: 1.6921 | Accuracy: 4339/10000 (43%)\n",
            "\n"
          ]
        },
        {
          "output_type": "stream",
          "name": "stderr",
          "text": [
            "Epoch 18: : 391it [00:13, 28.70it/s, Iter=[31200/50000] | Epoch_Loss: 1.6976541503311118 | Batch_Loss: 1.4477527141571045 | Accuracy: 43%]\n"
          ]
        },
        {
          "output_type": "stream",
          "name": "stdout",
          "text": [
            "Test set: Average loss: 1.7475 | Accuracy: 4126/10000 (41%)\n",
            "\n"
          ]
        },
        {
          "output_type": "stream",
          "name": "stderr",
          "text": [
            "Epoch 19: : 391it [00:13, 28.61it/s, Iter=[31200/50000] | Epoch_Loss: 1.7182145963239548 | Batch_Loss: 1.5766254663467407 | Accuracy: 42%]\n"
          ]
        },
        {
          "output_type": "stream",
          "name": "stdout",
          "text": [
            "Test set: Average loss: 1.6760 | Accuracy: 4404/10000 (44%)\n",
            "\n"
          ]
        },
        {
          "output_type": "stream",
          "name": "stderr",
          "text": [
            "Epoch 20: : 391it [00:14, 27.72it/s, Iter=[31200/50000] | Epoch_Loss: 1.7074223479346546 | Batch_Loss: 1.7765134572982788 | Accuracy: 43%]\n"
          ]
        },
        {
          "output_type": "stream",
          "name": "stdout",
          "text": [
            "Test set: Average loss: 1.6719 | Accuracy: 4411/10000 (44%)\n",
            "\n"
          ]
        },
        {
          "output_type": "stream",
          "name": "stderr",
          "text": [
            "Epoch 21: : 391it [00:13, 28.47it/s, Iter=[31200/50000] | Epoch_Loss: 1.6720346145312805 | Batch_Loss: 1.542743444442749 | Accuracy: 43%]\n"
          ]
        },
        {
          "output_type": "stream",
          "name": "stdout",
          "text": [
            "Test set: Average loss: 1.7872 | Accuracy: 4183/10000 (42%)\n",
            "\n"
          ]
        },
        {
          "output_type": "stream",
          "name": "stderr",
          "text": [
            "Epoch 22: : 391it [00:13, 28.42it/s, Iter=[31200/50000] | Epoch_Loss: 1.6710268106606916 | Batch_Loss: 1.4147533178329468 | Accuracy: 43%]\n"
          ]
        },
        {
          "output_type": "stream",
          "name": "stdout",
          "text": [
            "Test set: Average loss: 1.6453 | Accuracy: 4404/10000 (44%)\n",
            "\n"
          ]
        },
        {
          "output_type": "stream",
          "name": "stderr",
          "text": [
            "Epoch 23: : 391it [00:13, 28.30it/s, Iter=[31200/50000] | Epoch_Loss: 1.6693459605926748 | Batch_Loss: 1.7432794570922852 | Accuracy: 43%]\n"
          ]
        },
        {
          "output_type": "stream",
          "name": "stdout",
          "text": [
            "Test set: Average loss: 1.6941 | Accuracy: 4335/10000 (43%)\n",
            "\n"
          ]
        },
        {
          "output_type": "stream",
          "name": "stderr",
          "text": [
            "Epoch 24: : 391it [00:13, 28.93it/s, Iter=[31200/50000] | Epoch_Loss: 1.6613994678268043 | Batch_Loss: 1.5720760822296143 | Accuracy: 44%]\n"
          ]
        },
        {
          "output_type": "stream",
          "name": "stdout",
          "text": [
            "Test set: Average loss: 1.6389 | Accuracy: 4475/10000 (45%)\n",
            "\n"
          ]
        },
        {
          "output_type": "stream",
          "name": "stderr",
          "text": [
            "Epoch 25: : 391it [00:13, 28.65it/s, Iter=[31200/50000] | Epoch_Loss: 1.6596633098314486 | Batch_Loss: 1.786632776260376 | Accuracy: 44%]\n"
          ]
        },
        {
          "output_type": "stream",
          "name": "stdout",
          "text": [
            "Test set: Average loss: 1.7388 | Accuracy: 4189/10000 (42%)\n",
            "\n"
          ]
        },
        {
          "output_type": "stream",
          "name": "stderr",
          "text": [
            "Epoch 26: : 391it [00:13, 28.44it/s, Iter=[31200/50000] | Epoch_Loss: 1.6347669219726797 | Batch_Loss: 1.632989525794983 | Accuracy: 44%]\n"
          ]
        },
        {
          "output_type": "stream",
          "name": "stdout",
          "text": [
            "Test set: Average loss: 1.6494 | Accuracy: 4354/10000 (44%)\n",
            "\n"
          ]
        },
        {
          "output_type": "stream",
          "name": "stderr",
          "text": [
            "Epoch 27: : 391it [00:13, 28.01it/s, Iter=[31200/50000] | Epoch_Loss: 1.6327528676108631 | Batch_Loss: 1.4332714080810547 | Accuracy: 44%]\n"
          ]
        },
        {
          "output_type": "stream",
          "name": "stdout",
          "text": [
            "Test set: Average loss: 1.6470 | Accuracy: 4385/10000 (44%)\n",
            "\n"
          ]
        },
        {
          "output_type": "stream",
          "name": "stderr",
          "text": [
            "Epoch 28: : 391it [00:13, 28.64it/s, Iter=[31200/50000] | Epoch_Loss: 1.6309963187293324 | Batch_Loss: 1.6648311614990234 | Accuracy: 44%]\n"
          ]
        },
        {
          "output_type": "stream",
          "name": "stdout",
          "text": [
            "Test set: Average loss: 1.6815 | Accuracy: 4274/10000 (43%)\n",
            "\n"
          ]
        },
        {
          "output_type": "stream",
          "name": "stderr",
          "text": [
            "Epoch 29: : 391it [00:13, 28.42it/s, Iter=[31200/50000] | Epoch_Loss: 1.6410746498181081 | Batch_Loss: 1.606528639793396 | Accuracy: 44%]\n"
          ]
        },
        {
          "output_type": "stream",
          "name": "stdout",
          "text": [
            "Test set: Average loss: 1.6759 | Accuracy: 4279/10000 (43%)\n",
            "\n"
          ]
        }
      ],
      "source": [
        "learning_rate = 0.01\n",
        "num_epochs = 30\n",
        "loss_train_epoch = []\n",
        "epoch_auc_history = []\n",
        "loss_test_epoch = []\n",
        "\n",
        "model_prt.to(device='cuda')\n",
        "\n",
        "loss_function = nn.CrossEntropyLoss()\n",
        "optimizer = torch.optim.Adam(model_prt.parameters(), lr=learning_rate)\n",
        "scheduler = torch.optim.lr_scheduler.StepLR(optimizer, step_size=5, gamma=0.8)\n",
        "\n",
        "for epoch in range(1, num_epochs):\n",
        "    loss_train_epoch = train_step(model_prt, epoch, loss_function, optimizer, loss_train_epoch)\n",
        "\n",
        "    acc, loss_test_epoch, epoch_auc_history = test(model_prt, loss_function, loss_test_epoch, epoch_auc_history)\n",
        "\n",
        "    scheduler.step()"
      ]
    },
    {
      "cell_type": "markdown",
      "source": [
        "## Save and load model\n",
        "Cifar nom chán thật sự nên lấy model MNIST inference cho sướng tay"
      ],
      "metadata": {
        "id": "yIq4zcr7ruHk"
      }
    },
    {
      "cell_type": "code",
      "source": [
        "torch.save(model.state_dict(), \"conv.pth\")"
      ],
      "metadata": {
        "id": "OWGJlFB2dZuu"
      },
      "execution_count": 50,
      "outputs": []
    },
    {
      "cell_type": "code",
      "source": [
        "#MNIST dataset\n",
        "test_dataset = torchvision.datasets.MNIST(root='./data',\n",
        "                                          train=False,\n",
        "                                          transform=transforms.ToTensor())\n",
        "\n",
        "#Data loader\n",
        "test_loader = torch.utils.data.DataLoader(dataset=test_dataset,\n",
        "                                          batch_size=64,\n",
        "                                          shuffle=False)"
      ],
      "metadata": {
        "id": "m-JUFlUosoz9"
      },
      "execution_count": 51,
      "outputs": []
    },
    {
      "cell_type": "code",
      "source": [
        "path = \"/content/conv.pth\"\n",
        "loaded_model_prt = model.to(device=\"cuda\")\n",
        "loaded_model_prt.load_state_dict(torch.load(path, weights_only=True))\n",
        "loaded_model_prt.eval()\n",
        "\n",
        "with torch.no_grad():\n",
        "    n_correct = 0\n",
        "    n_samples = len(test_loader.dataset)\n",
        "    total_inference_time = 0\n",
        "\n",
        "    for images, labels in test_loader:\n",
        "      images, labels = images.to(device=\"cuda\"), labels.to(device=\"cuda\")\n",
        "      outputs = loaded_model_prt(images)\n",
        "\n",
        "      _, predicted = torch.max(outputs,1) #Return the max value and index of all the elements in the input tensor i.e., highest probablity\n",
        "      n_correct += (predicted == labels).sum().item()\n",
        "\n",
        "    acc = 100.0 * (n_correct/n_samples)\n",
        "    print(f'Accuracy of the model: {acc:.4f}%')"
      ],
      "metadata": {
        "colab": {
          "base_uri": "https://localhost:8080/"
        },
        "id": "Gh9ZBSt6sYH7",
        "outputId": "b37a144e-e120-413f-bfd6-bb8b6d18fa6d"
      },
      "execution_count": 54,
      "outputs": [
        {
          "output_type": "stream",
          "name": "stdout",
          "text": [
            "Accuracy of the model: 98.3500%\n"
          ]
        }
      ]
    }
  ],
  "metadata": {
    "kernelspec": {
      "display_name": "Python 3",
      "name": "python3"
    },
    "language_info": {
      "codemirror_mode": {
        "name": "ipython",
        "version": 3
      },
      "file_extension": ".py",
      "mimetype": "text/x-python",
      "name": "python",
      "nbconvert_exporter": "python",
      "pygments_lexer": "ipython3",
      "version": "3.10.12"
    },
    "colab": {
      "provenance": [],
      "gpuType": "T4"
    },
    "accelerator": "GPU"
  },
  "nbformat": 4,
  "nbformat_minor": 0
}