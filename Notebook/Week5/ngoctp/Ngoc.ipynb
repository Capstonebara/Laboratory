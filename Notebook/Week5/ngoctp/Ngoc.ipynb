{
  "nbformat": 4,
  "nbformat_minor": 0,
  "metadata": {
    "colab": {
      "provenance": [],
      "gpuType": "T4"
    },
    "kernelspec": {
      "name": "python3",
      "display_name": "Python 3"
    },
    "language_info": {
      "name": "python"
    },
    "accelerator": "GPU"
  },
  "cells": [
    {
      "cell_type": "markdown",
      "source": [
        "# Tensor Operations\n",
        "## Create a tensor from a NumPy array and perform element-wise operations (addition, multiplication, etc.)."
      ],
      "metadata": {
        "id": "dIafHAkpdZ53"
      }
    },
    {
      "cell_type": "code",
      "source": [
        "import torch\n",
        "import numpy"
      ],
      "metadata": {
        "id": "Kn8ec0xAdtWp"
      },
      "execution_count": 1,
      "outputs": []
    },
    {
      "cell_type": "code",
      "execution_count": 2,
      "metadata": {
        "colab": {
          "base_uri": "https://localhost:8080/"
        },
        "id": "cPyl2KVZc1SS",
        "outputId": "c90435bb-1ac0-4862-fe25-4223c21d780f"
      },
      "outputs": [
        {
          "output_type": "execute_result",
          "data": {
            "text/plain": [
              "array([4, 5, 6])"
            ]
          },
          "metadata": {},
          "execution_count": 2
        }
      ],
      "source": [
        "a = numpy.array([1, 2, 3])\n",
        "b = numpy.array([4, 5, 6])\n",
        "a\n",
        "b"
      ]
    },
    {
      "cell_type": "code",
      "source": [
        "a_torch = torch.from_numpy(a)\n",
        "b_torch = torch.from_numpy(b)\n",
        "a_torch, b_torch"
      ],
      "metadata": {
        "colab": {
          "base_uri": "https://localhost:8080/"
        },
        "id": "xaAv-F7tdxK-",
        "outputId": "07606627-f1a8-4c50-c167-c226997fe03f"
      },
      "execution_count": 3,
      "outputs": [
        {
          "output_type": "execute_result",
          "data": {
            "text/plain": [
              "(tensor([1, 2, 3]), tensor([4, 5, 6]))"
            ]
          },
          "metadata": {},
          "execution_count": 3
        }
      ]
    },
    {
      "cell_type": "code",
      "source": [
        "addition = a_torch + b_torch\n",
        "multiplication = a_torch * b_torch\n",
        "addition, multiplication"
      ],
      "metadata": {
        "colab": {
          "base_uri": "https://localhost:8080/"
        },
        "id": "tYR5HMtxd1r8",
        "outputId": "0e104625-a866-4a68-f3c3-dd2258102a9a"
      },
      "execution_count": 4,
      "outputs": [
        {
          "output_type": "execute_result",
          "data": {
            "text/plain": [
              "(tensor([5, 7, 9]), tensor([ 4, 10, 18]))"
            ]
          },
          "metadata": {},
          "execution_count": 4
        }
      ]
    },
    {
      "cell_type": "markdown",
      "source": [
        "## Convert a tensor back to a NumPy array."
      ],
      "metadata": {
        "id": "MTLDkptRgFe-"
      }
    },
    {
      "cell_type": "code",
      "source": [
        "addition.device, multiplication.device"
      ],
      "metadata": {
        "colab": {
          "base_uri": "https://localhost:8080/"
        },
        "id": "71hiB1FHd382",
        "outputId": "17363365-1720-4a88-9d88-c6c1445918cf"
      },
      "execution_count": 5,
      "outputs": [
        {
          "output_type": "execute_result",
          "data": {
            "text/plain": [
              "(device(type='cpu'), device(type='cpu'))"
            ]
          },
          "metadata": {},
          "execution_count": 5
        }
      ]
    },
    {
      "cell_type": "code",
      "source": [
        "addition_array = addition.numpy()\n",
        "multiplication_array_ = multiplication.numpy()\n",
        "addition_array, multiplication_array_"
      ],
      "metadata": {
        "colab": {
          "base_uri": "https://localhost:8080/"
        },
        "id": "_d-SY1WqgPza",
        "outputId": "759fb008-8fe5-44d4-d1bf-dbff3c393c27"
      },
      "execution_count": 6,
      "outputs": [
        {
          "output_type": "execute_result",
          "data": {
            "text/plain": [
              "(array([5, 7, 9]), array([ 4, 10, 18]))"
            ]
          },
          "metadata": {},
          "execution_count": 6
        }
      ]
    },
    {
      "cell_type": "markdown",
      "source": [
        "## Perform matrix multiplication between two 2D tensors."
      ],
      "metadata": {
        "id": "NRpdg7D-hxiM"
      }
    },
    {
      "cell_type": "code",
      "source": [
        "c = torch.rand(4 ,6)\n",
        "d = torch.rand(6, 6)\n",
        "c, d"
      ],
      "metadata": {
        "colab": {
          "base_uri": "https://localhost:8080/"
        },
        "id": "iSmoPnd5glSX",
        "outputId": "f421de6e-2e9f-4c87-cccf-d703c712a1c2"
      },
      "execution_count": 7,
      "outputs": [
        {
          "output_type": "execute_result",
          "data": {
            "text/plain": [
              "(tensor([[0.5452, 0.1238, 0.6354, 0.5224, 0.7272, 0.6824],\n",
              "         [0.0814, 0.9561, 0.7302, 0.6615, 0.8498, 0.3783],\n",
              "         [0.9688, 0.7899, 0.4341, 0.5289, 0.7707, 0.4578],\n",
              "         [0.5595, 0.0086, 0.3169, 0.6171, 0.1667, 0.7125]]),\n",
              " tensor([[0.6587, 0.0957, 0.4310, 0.3618, 0.4060, 0.8845],\n",
              "         [0.7234, 0.8691, 0.8596, 0.4511, 0.0537, 0.4711],\n",
              "         [0.4530, 0.0667, 0.8004, 0.1360, 0.1681, 0.1727],\n",
              "         [0.0407, 0.4311, 0.8353, 0.1085, 0.5058, 0.8454],\n",
              "         [0.5802, 0.5941, 0.0732, 0.5537, 0.7507, 0.1485],\n",
              "         [0.1600, 0.8420, 0.1735, 0.1174, 0.9058, 0.4381]]))"
            ]
          },
          "metadata": {},
          "execution_count": 7
        }
      ]
    },
    {
      "cell_type": "code",
      "source": [
        "cd_mul = torch.mm(c, d)\n",
        "cd_mul"
      ],
      "metadata": {
        "colab": {
          "base_uri": "https://localhost:8080/"
        },
        "id": "iROGEv8MiC5t",
        "outputId": "bf4050ac-726e-4fdc-b4bc-7a8b3aeb5550"
      },
      "execution_count": 8,
      "outputs": [
        {
          "output_type": "execute_result",
          "data": {
            "text/plain": [
              "tensor([[1.2889, 1.4339, 1.4580, 0.8790, 1.7630, 1.4989],\n",
              "        [1.6565, 1.9960, 2.1217, 1.1468, 1.5223, 1.4996],\n",
              "        [1.9480, 1.8794, 2.0215, 1.3037, 1.7694, 2.0659],\n",
              "        [0.7541, 1.0471, 1.1534, 0.4923, 1.3635, 1.4122]])"
            ]
          },
          "metadata": {},
          "execution_count": 8
        }
      ]
    },
    {
      "cell_type": "markdown",
      "source": [
        "## Reshape and transpose a tensor."
      ],
      "metadata": {
        "id": "xH6h5G92iXTD"
      }
    },
    {
      "cell_type": "code",
      "source": [
        "c_transpose = c.T\n",
        "c_transpose"
      ],
      "metadata": {
        "colab": {
          "base_uri": "https://localhost:8080/"
        },
        "id": "1P8yMFFxiHhw",
        "outputId": "6ad38f01-305c-443f-c2b3-a401f09fe497"
      },
      "execution_count": 9,
      "outputs": [
        {
          "output_type": "execute_result",
          "data": {
            "text/plain": [
              "tensor([[0.5452, 0.0814, 0.9688, 0.5595],\n",
              "        [0.1238, 0.9561, 0.7899, 0.0086],\n",
              "        [0.6354, 0.7302, 0.4341, 0.3169],\n",
              "        [0.5224, 0.6615, 0.5289, 0.6171],\n",
              "        [0.7272, 0.8498, 0.7707, 0.1667],\n",
              "        [0.6824, 0.3783, 0.4578, 0.7125]])"
            ]
          },
          "metadata": {},
          "execution_count": 9
        }
      ]
    },
    {
      "cell_type": "code",
      "source": [
        "cd_mul_reshape = cd_mul.reshape(3,8)\n",
        "cd_mul_reshape"
      ],
      "metadata": {
        "colab": {
          "base_uri": "https://localhost:8080/"
        },
        "id": "uM3kH8KYif1D",
        "outputId": "f5d62d52-4bea-402e-fc03-afabda3723c1"
      },
      "execution_count": 10,
      "outputs": [
        {
          "output_type": "execute_result",
          "data": {
            "text/plain": [
              "tensor([[1.2889, 1.4339, 1.4580, 0.8790, 1.7630, 1.4989, 1.6565, 1.9960],\n",
              "        [2.1217, 1.1468, 1.5223, 1.4996, 1.9480, 1.8794, 2.0215, 1.3037],\n",
              "        [1.7694, 2.0659, 0.7541, 1.0471, 1.1534, 0.4923, 1.3635, 1.4122]])"
            ]
          },
          "metadata": {},
          "execution_count": 10
        }
      ]
    },
    {
      "cell_type": "markdown",
      "source": [
        "# Simple Neural Network from Scratch"
      ],
      "metadata": {
        "id": "HIQpYzQrjVuO"
      }
    },
    {
      "cell_type": "code",
      "source": [
        "device = (\n",
        "    \"cuda\"\n",
        "    if torch.cuda.is_available()\n",
        "    else \"mps\"\n",
        "    if torch.backends.mps.is_available()\n",
        "    else \"cpu\"\n",
        ")\n",
        "print(f\"Using {device} device\")"
      ],
      "metadata": {
        "colab": {
          "base_uri": "https://localhost:8080/"
        },
        "id": "wzQ7wZOviu7z",
        "outputId": "4cf2b25f-04f9-4879-cdc1-2d23cc040422"
      },
      "execution_count": 11,
      "outputs": [
        {
          "output_type": "stream",
          "name": "stdout",
          "text": [
            "Using cuda device\n"
          ]
        }
      ]
    },
    {
      "cell_type": "code",
      "source": [
        "from torch import nn"
      ],
      "metadata": {
        "id": "LN3U8NrPkmqV"
      },
      "execution_count": 12,
      "outputs": []
    },
    {
      "cell_type": "code",
      "source": [
        "# Create *known* parameters\n",
        "weight = 0.6\n",
        "bias = 0.4\n",
        "\n",
        "# Create data\n",
        "start = 0\n",
        "end = 1\n",
        "step = 0.01\n",
        "X = torch.arange(start, end, step).unsqueeze(dim=1)\n",
        "y = weight * X + bias\n",
        "\n",
        "X[:10], y[:10]\n"
      ],
      "metadata": {
        "colab": {
          "base_uri": "https://localhost:8080/"
        },
        "id": "kKEXxyeNmCfJ",
        "outputId": "45803ca2-887d-4e50-9af0-2abc2f763f6f"
      },
      "execution_count": 13,
      "outputs": [
        {
          "output_type": "execute_result",
          "data": {
            "text/plain": [
              "(tensor([[0.0000],\n",
              "         [0.0100],\n",
              "         [0.0200],\n",
              "         [0.0300],\n",
              "         [0.0400],\n",
              "         [0.0500],\n",
              "         [0.0600],\n",
              "         [0.0700],\n",
              "         [0.0800],\n",
              "         [0.0900]]),\n",
              " tensor([[0.4000],\n",
              "         [0.4060],\n",
              "         [0.4120],\n",
              "         [0.4180],\n",
              "         [0.4240],\n",
              "         [0.4300],\n",
              "         [0.4360],\n",
              "         [0.4420],\n",
              "         [0.4480],\n",
              "         [0.4540]]))"
            ]
          },
          "metadata": {},
          "execution_count": 13
        }
      ]
    },
    {
      "cell_type": "code",
      "source": [
        "len(X), len(y)"
      ],
      "metadata": {
        "colab": {
          "base_uri": "https://localhost:8080/"
        },
        "id": "dJmjpUuhmLsB",
        "outputId": "f45c2a99-6782-4fcd-c7fa-6abe65a25141"
      },
      "execution_count": 14,
      "outputs": [
        {
          "output_type": "execute_result",
          "data": {
            "text/plain": [
              "(100, 100)"
            ]
          },
          "metadata": {},
          "execution_count": 14
        }
      ]
    },
    {
      "cell_type": "code",
      "source": [
        "X.shape"
      ],
      "metadata": {
        "colab": {
          "base_uri": "https://localhost:8080/"
        },
        "id": "ZPUqfY8ZmifX",
        "outputId": "017bae42-67cb-47df-d1c5-13bed70d4e53"
      },
      "execution_count": 15,
      "outputs": [
        {
          "output_type": "execute_result",
          "data": {
            "text/plain": [
              "torch.Size([100, 1])"
            ]
          },
          "metadata": {},
          "execution_count": 15
        }
      ]
    },
    {
      "cell_type": "code",
      "source": [
        "from torch.utils.data import TensorDataset, random_split\n",
        "\n",
        "dataset = TensorDataset(X, y)\n",
        "\n",
        "dataset_size = len(dataset)\n",
        "train_size = int(0.9 * dataset_size)\n",
        "test_size = dataset_size - train_size\n",
        "\n",
        "# Split the dataset into training and testing sets\n",
        "train_dataset, test_dataset = random_split(dataset, [train_size, test_size])\n",
        "len(train_dataset), len(test_dataset)"
      ],
      "metadata": {
        "colab": {
          "base_uri": "https://localhost:8080/"
        },
        "id": "fgx9hPy8oXjt",
        "outputId": "632d5ace-9983-40dd-ede7-b97150c9c88e"
      },
      "execution_count": 16,
      "outputs": [
        {
          "output_type": "execute_result",
          "data": {
            "text/plain": [
              "(90, 10)"
            ]
          },
          "metadata": {},
          "execution_count": 16
        }
      ]
    },
    {
      "cell_type": "code",
      "source": [
        "from torch.utils.data import DataLoader\n",
        "\n",
        "train_loader = DataLoader(dataset=train_dataset, batch_size=8, shuffle=True)\n",
        "test_loader = DataLoader(dataset=test_dataset, batch_size=8, shuffle=False)"
      ],
      "metadata": {
        "id": "SYRddP70o4M7"
      },
      "execution_count": 17,
      "outputs": []
    },
    {
      "cell_type": "code",
      "source": [
        "class NeuralNetwork(nn.Module):\n",
        "    def __init__(self):\n",
        "        super().__init__()\n",
        "        self.flatten = nn.Flatten()\n",
        "        self.linear_relu_stack = nn.Sequential(\n",
        "            nn.Linear(1, 10),\n",
        "            nn.ReLU(),\n",
        "            nn.Linear(10, 10),\n",
        "            nn.ReLU(),\n",
        "            nn.Linear(10, 1),\n",
        "        )\n",
        "\n",
        "    def forward(self, x):\n",
        "        x = self.flatten(x)\n",
        "        logits = self.linear_relu_stack(x)\n",
        "        return logits"
      ],
      "metadata": {
        "id": "rOGmvLonj7VU"
      },
      "execution_count": 18,
      "outputs": []
    },
    {
      "cell_type": "code",
      "source": [
        "model = NeuralNetwork().to(device)\n",
        "print(model)"
      ],
      "metadata": {
        "colab": {
          "base_uri": "https://localhost:8080/"
        },
        "id": "3gPmOAjUknqE",
        "outputId": "fab0ca7b-76da-4b5d-dba1-4afbe661fe45"
      },
      "execution_count": 19,
      "outputs": [
        {
          "output_type": "stream",
          "name": "stdout",
          "text": [
            "NeuralNetwork(\n",
            "  (flatten): Flatten(start_dim=1, end_dim=-1)\n",
            "  (linear_relu_stack): Sequential(\n",
            "    (0): Linear(in_features=1, out_features=10, bias=True)\n",
            "    (1): ReLU()\n",
            "    (2): Linear(in_features=10, out_features=10, bias=True)\n",
            "    (3): ReLU()\n",
            "    (4): Linear(in_features=10, out_features=1, bias=True)\n",
            "  )\n",
            ")\n"
          ]
        }
      ]
    },
    {
      "cell_type": "code",
      "source": [
        "# Define loss function (mean squared error)\n",
        "loss_fn = nn.MSELoss()\n",
        "\n",
        "# Define optimizer (stochastic gradient descent)\n",
        "optimizer = torch.optim.SGD(model.parameters(), lr=0.01)"
      ],
      "metadata": {
        "id": "sg-yQhYKpRcf"
      },
      "execution_count": 20,
      "outputs": []
    },
    {
      "cell_type": "code",
      "source": [
        "# Training loop with evaluation\n",
        "epochs = 100\n",
        "for epoch in range(epochs):\n",
        "    model.train()  # Set the model to training mode\n",
        "    for batch_X, batch_y in train_loader:  # Iterate over mini-batches\n",
        "        # Move data to the same device as the model\n",
        "        batch_X, batch_y = batch_X.to(device), batch_y.to(device)\n",
        "\n",
        "        # Forward pass\n",
        "        y_pred = model(batch_X)\n",
        "\n",
        "        # Compute loss\n",
        "        loss = loss_fn(y_pred, batch_y)\n",
        "\n",
        "        # Zero gradients, perform backward pass, and update weights\n",
        "        optimizer.zero_grad()  # Clear the gradients\n",
        "        loss.backward()        # Backpropagation\n",
        "        optimizer.step()       # Update the weights\n",
        "\n",
        "    # Print training loss every 100 epochs\n",
        "    if (epoch + 1) % 10 == 0:\n",
        "        print(f'Epoch [{epoch + 1}/{epochs}], Training Loss: {loss.item():.4f}')\n",
        "\n",
        "    # Evaluation step after each epoch\n",
        "    model.eval()  # Set the model to evaluation mode\n",
        "    with torch.no_grad():  # No need to track gradients during evaluation\n",
        "        test_loss = 0\n",
        "        for test_X, test_y in test_loader:\n",
        "            # Move test data to the same device as the model\n",
        "            test_X, test_y = test_X.to(device), test_y.to(device)\n",
        "\n",
        "            # Make predictions\n",
        "            test_pred = model(test_X)\n",
        "\n",
        "            # Accumulate the test loss\n",
        "            test_loss += loss_fn(test_pred, test_y).item()\n",
        "\n",
        "        # Print test loss after each epoch\n",
        "        if (epoch + 1) % 10 == 0:\n",
        "          print(f'Test Loss (MSE): {test_loss:.4f}')"
      ],
      "metadata": {
        "colab": {
          "base_uri": "https://localhost:8080/"
        },
        "id": "b7hNdVN3k2vH",
        "outputId": "46a80434-bafc-409f-f2e3-934cb037c314"
      },
      "execution_count": 21,
      "outputs": [
        {
          "output_type": "stream",
          "name": "stdout",
          "text": [
            "Epoch [10/100], Training Loss: 0.0057\n",
            "Test Loss (MSE): 0.0422\n",
            "Epoch [20/100], Training Loss: 0.0401\n",
            "Test Loss (MSE): 0.0354\n",
            "Epoch [30/100], Training Loss: 0.0101\n",
            "Test Loss (MSE): 0.0303\n",
            "Epoch [40/100], Training Loss: 0.0138\n",
            "Test Loss (MSE): 0.0255\n",
            "Epoch [50/100], Training Loss: 0.0254\n",
            "Test Loss (MSE): 0.0207\n",
            "Epoch [60/100], Training Loss: 0.0056\n",
            "Test Loss (MSE): 0.0165\n",
            "Epoch [70/100], Training Loss: 0.0147\n",
            "Test Loss (MSE): 0.0120\n",
            "Epoch [80/100], Training Loss: 0.0020\n",
            "Test Loss (MSE): 0.0087\n",
            "Epoch [90/100], Training Loss: 0.0018\n",
            "Test Loss (MSE): 0.0061\n",
            "Epoch [100/100], Training Loss: 0.0040\n",
            "Test Loss (MSE): 0.0042\n"
          ]
        }
      ]
    },
    {
      "cell_type": "markdown",
      "source": [
        "# Train a CNN on MNIST"
      ],
      "metadata": {
        "id": "nM7pUZhi54m4"
      }
    },
    {
      "cell_type": "markdown",
      "source": [
        "# Transfer Learning with Pretrained Models"
      ],
      "metadata": {
        "id": "eKSSH6prFPP9"
      }
    },
    {
      "cell_type": "code",
      "source": [
        "import torch\n",
        "import torch.nn as nn\n",
        "import torch.optim as optim\n",
        "import torchvision\n",
        "import torchvision.transforms as transforms\n",
        "import matplotlib.pyplot as plt\n",
        "\n",
        "device = torch.device('cuda' if torch.cuda.is_available() else 'cpu')\n",
        "\n",
        "transform = transforms.Compose([transforms.ToTensor(), transforms.Normalize((0.1307,), (0.3081,))])\n",
        "\n",
        "train_dataset = torchvision.datasets.MNIST(root='./data', train=True, transform=transform, download=True)\n",
        "train_loader = torch.utils.data.DataLoader(dataset=train_dataset, batch_size=64, shuffle=True)\n",
        "\n",
        "class CNN(nn.Module):\n",
        "    def __init__(self):\n",
        "        super(CNN, self).__init__()\n",
        "        self.conv1 = nn.Conv2d(1, 32, kernel_size=3, stride=1, padding=1)\n",
        "        self.pool = nn.MaxPool2d(kernel_size=2, stride=2)\n",
        "        self.conv2 = nn.Conv2d(32, 64, kernel_size=3, stride=1, padding=1)\n",
        "        self.fc1 = nn.Linear(64 * 7 * 7, 128)\n",
        "        self.fc2 = nn.Linear(128, 10)\n",
        "\n",
        "    def forward(self, x):\n",
        "        x = self.pool(torch.relu(self.conv1(x)))\n",
        "        x = self.pool(torch.relu(self.conv2(x)))\n",
        "        x = x.view(-1, 64 * 7 * 7)\n",
        "        x = torch.relu(self.fc1(x))\n",
        "        x = self.fc2(x)\n",
        "        return x"
      ],
      "metadata": {
        "id": "w1JVaIssDdt2"
      },
      "execution_count": 22,
      "outputs": []
    },
    {
      "cell_type": "code",
      "source": [
        "model_cnn = CNN().to(device)\n",
        "criterion = nn.CrossEntropyLoss()\n",
        "optimizer = optim.Adam(model_cnn.parameters(), lr=0.001)\n",
        "\n",
        "loss_history = []\n",
        "\n",
        "for epoch in range(5):\n",
        "    for images, labels in train_loader:\n",
        "        images, labels = images.to(device), labels.to(device)\n",
        "        outputs = model_cnn(images)\n",
        "        loss = criterion(outputs, labels)\n",
        "        optimizer.zero_grad()\n",
        "        loss.backward()\n",
        "        optimizer.step()\n",
        "    loss_history.append(loss.item())\n",
        "    print(f\"Epochs: {epoch}, Cost: {loss}\")\n",
        "\n",
        "\n",
        "\n",
        "plt.plot(range(1, 6), loss_history)\n",
        "plt.xlabel('Epoch')\n",
        "plt.ylabel('Loss')\n",
        "plt.title('Training Loss')\n",
        "plt.show()"
      ],
      "metadata": {
        "colab": {
          "base_uri": "https://localhost:8080/",
          "height": 563
        },
        "id": "8oqxx9q1YTMP",
        "outputId": "fd27ff9f-73b6-4c8a-8ce4-9f845aaea064"
      },
      "execution_count": 23,
      "outputs": [
        {
          "output_type": "stream",
          "name": "stdout",
          "text": [
            "Epochs: 0, Cost: 0.05651784688234329\n",
            "Epochs: 1, Cost: 0.003763780929148197\n",
            "Epochs: 2, Cost: 0.014716449193656445\n",
            "Epochs: 3, Cost: 0.0022014789283275604\n",
            "Epochs: 4, Cost: 0.001706457231193781\n"
          ]
        },
        {
          "output_type": "display_data",
          "data": {
            "text/plain": [
              "<Figure size 640x480 with 1 Axes>"
            ],
            "image/png": "[encoded data removed]"
          },
          "metadata": {}
        }
      ]
    },
    {
      "cell_type": "markdown",
      "source": [
        "# Transfer Learning with Pretrained Models"
      ],
      "metadata": {
        "id": "gweIaThFZrkM"
      }
    },
    {
      "cell_type": "code",
      "source": [
        "import torch\n",
        "import torch.nn as nn\n",
        "import torch.optim as optim\n",
        "from torchvision import datasets, transforms, models\n",
        "from torch.utils.data import DataLoader, Subset\n",
        "import numpy as np"
      ],
      "metadata": {
        "id": "Sr95pgXLYWy1"
      },
      "execution_count": 24,
      "outputs": []
    },
    {
      "cell_type": "code",
      "source": [
        "\n",
        "device = torch.device(\"cuda\" if torch.cuda.is_available() else \"cpu\")\n",
        "\n",
        "\n",
        "transform = transforms.Compose([\n",
        "    transforms.Resize((224, 224)),  # Resize to match ResNet input dimensions\n",
        "    transforms.ToTensor(),  # Convert images to tensor\n",
        "    transforms.Normalize((0.5, 0.5, 0.5), (0.5, 0.5, 0.5))  # Normalize images\n",
        "])\n",
        "\n",
        "\n",
        "dataset = datasets.CIFAR10(root='./data', train=True, download=True, transform=transform)\n",
        "\n",
        "\n",
        "class_names = ['airplane', 'car']\n",
        "indices = [i for i, target in enumerate(dataset.targets) if dataset.classes[target] in class_names]\n",
        "filtered_dataset = Subset(dataset, indices)\n",
        "\n",
        "\n",
        "target_map = {class_name: i for i, class_name in enumerate(class_names)}\n",
        "filtered_dataset.targets = [target_map[dataset.classes[target]] for target in np.array(dataset.targets)[indices]]\n",
        "\n",
        "\n",
        "train_loader = DataLoader(dataset=filtered_dataset, batch_size=64, shuffle=True)\n"
      ],
      "metadata": {
        "colab": {
          "base_uri": "https://localhost:8080/"
        },
        "id": "RVBV2SfXZ0g6",
        "outputId": "74dfa616-6672-4d12-b427-a2c181d75a24"
      },
      "execution_count": 25,
      "outputs": [
        {
          "output_type": "stream",
          "name": "stdout",
          "text": [
            "Files already downloaded and verified\n"
          ]
        }
      ]
    },
    {
      "cell_type": "code",
      "source": [
        "# Load a pretrained ResNet model\n",
        "model = models.resnet18(pretrained=True)\n",
        "\n",
        "# Modify the final fully connected layer to output 2 classes\n",
        "num_features = model.fc.in_features\n",
        "model.fc = nn.Linear(num_features, 2)\n",
        "\n",
        "# Move the model to the selected device\n",
        "model = model.to(device)\n"
      ],
      "metadata": {
        "colab": {
          "base_uri": "https://localhost:8080/"
        },
        "id": "2w6AvrhmZ-ZF",
        "outputId": "96da213e-b483-4e18-d040-472514bbc16b"
      },
      "execution_count": 26,
      "outputs": [
        {
          "output_type": "stream",
          "name": "stderr",
          "text": [
            "/usr/local/lib/python3.10/dist-packages/torchvision/models/_utils.py:208: UserWarning: The parameter 'pretrained' is deprecated since 0.13 and may be removed in the future, please use 'weights' instead.\n",
            "  warnings.warn(\n",
            "/usr/local/lib/python3.10/dist-packages/torchvision/models/_utils.py:223: UserWarning: Arguments other than a weight enum or `None` for 'weights' are deprecated since 0.13 and may be removed in the future. The current behavior is equivalent to passing `weights=ResNet18_Weights.IMAGENET1K_V1`. You can also use `weights=ResNet18_Weights.DEFAULT` to get the most up-to-date weights.\n",
            "  warnings.warn(msg)\n"
          ]
        }
      ]
    },
    {
      "cell_type": "code",
      "source": [
        "# Define loss function and optimizer\n",
        "loss_fn = nn.CrossEntropyLoss()\n",
        "optimizer = optim.Adam(model.parameters(), lr=0.001)"
      ],
      "metadata": {
        "id": "_I5XRFQ8aDF7"
      },
      "execution_count": 27,
      "outputs": []
    },
    {
      "cell_type": "code",
      "source": [
        "# Training loop\n",
        "epochs = 5\n",
        "for epoch in range(epochs):\n",
        "    model.train()  # Set the model to training mode\n",
        "    running_loss = 0.0\n",
        "\n",
        "    for batch_X, batch_y in train_loader:\n",
        "        batch_X, batch_y = batch_X.to(device), batch_y.to(device)\n",
        "\n",
        "        # Forward pass\n",
        "        outputs = model(batch_X)\n",
        "        loss = loss_fn(outputs, batch_y)\n",
        "\n",
        "        # Zero gradients, perform backward pass, and update weights\n",
        "        optimizer.zero_grad()\n",
        "        loss.backward()\n",
        "        optimizer.step()\n",
        "\n",
        "        running_loss += loss.item()\n",
        "\n",
        "    print(f'Epoch [{epoch + 1}/{epochs}], Loss: {running_loss / len(train_loader):.4f}')\n",
        "\n",
        "    # Evaluation step\n",
        "    model.eval()  # Set the model to evaluation mode\n",
        "    correct = 0\n",
        "    total = 0\n",
        "\n",
        "    with torch.no_grad():\n",
        "        for batch_X, batch_y in train_loader:\n",
        "            batch_X, batch_y = batch_X.to(device), batch_y.to(device)\n",
        "            outputs = model(batch_X)\n",
        "            _, predicted = torch.max(outputs.data, 1)\n",
        "            total += batch_y.size(0)\n",
        "            correct += (predicted == batch_y).sum().item()\n",
        "\n",
        "    accuracy = 100 * correct / total\n",
        "    print(f'Accuracy of the model on the dataset: {accuracy:.2f}%')"
      ],
      "metadata": {
        "id": "bBIjwr2YaJF0",
        "colab": {
          "base_uri": "https://localhost:8080/"
        },
        "outputId": "7a6f7ca9-9320-4c07-c6a2-ae14b87875ca"
      },
      "execution_count": 28,
      "outputs": [
        {
          "output_type": "stream",
          "name": "stdout",
          "text": [
            "Epoch [1/5], Loss: 0.0181\n",
            "Accuracy of the model on the dataset: 100.00%\n",
            "Epoch [2/5], Loss: 0.0000\n",
            "Accuracy of the model on the dataset: 100.00%\n",
            "Epoch [3/5], Loss: 0.0000\n",
            "Accuracy of the model on the dataset: 100.00%\n",
            "Epoch [4/5], Loss: 0.0000\n",
            "Accuracy of the model on the dataset: 100.00%\n",
            "Epoch [5/5], Loss: 0.0000\n",
            "Accuracy of the model on the dataset: 100.00%\n"
          ]
        }
      ]
    },
    {
      "cell_type": "markdown",
      "source": [
        "# Save and Load Models"
      ],
      "metadata": {
        "id": "nUUbOiT0bykf"
      }
    },
    {
      "cell_type": "code",
      "source": [
        "model_cnn = CNN().to(device)\n",
        "torch.save(model_cnn.state_dict(), 'cnn_mnist_model.pth')\n",
        "print(\"Model saved!\")"
      ],
      "metadata": {
        "id": "VWXCBIHTaKsL",
        "colab": {
          "base_uri": "https://localhost:8080/"
        },
        "outputId": "0a081cca-b428-4fe3-8e18-087f9fd85461"
      },
      "execution_count": 29,
      "outputs": [
        {
          "output_type": "stream",
          "name": "stdout",
          "text": [
            "Model saved!\n"
          ]
        }
      ]
    },
    {
      "cell_type": "code",
      "source": [
        "# Load the FashionMNIST dataset\n",
        "fashion_transform = transforms.Compose([\n",
        "    transforms.ToTensor(),\n",
        "    transforms.Normalize((0.1307,), (0.3081,))  # Same normalization as MNIST\n",
        "])\n",
        "\n",
        "fashion_test_dataset = torchvision.datasets.FashionMNIST(root='./data', train=False, transform=fashion_transform, download=True)\n",
        "fashion_test_loader = torch.utils.data.DataLoader(dataset=fashion_test_dataset, batch_size=64, shuffle=False)\n",
        "\n",
        "# Re-initialize the model architecture\n",
        "model_fashion = CNN().to(device)\n",
        "\n",
        "# Load the trained model\n",
        "model_fashion.load_state_dict(torch.load('cnn_mnist_model.pth'))\n",
        "model_fashion.eval()  # Set to evaluation mode\n",
        "\n",
        "# Evaluation step on FashionMNIST test set\n",
        "correct = 0\n",
        "total = 0\n",
        "\n",
        "with torch.no_grad():\n",
        "    for images, labels in fashion_test_loader:\n",
        "        images, labels = images.to(device), labels.to(device)\n",
        "        outputs = model_fashion(images)\n",
        "        _, predicted = torch.max(outputs.data, 1)\n",
        "        total += labels.size(0)\n",
        "        correct += (predicted == labels).sum().item()\n",
        "\n",
        "accuracy = 100 * correct / total\n",
        "print(f'Accuracy of the model on the FashionMNIST test set: {accuracy:.2f}%')\n"
      ],
      "metadata": {
        "colab": {
          "base_uri": "https://localhost:8080/"
        },
        "id": "saHMK13DcexO",
        "outputId": "c92dbf34-67e6-452d-a212-fd83e420addd"
      },
      "execution_count": 30,
      "outputs": [
        {
          "output_type": "stream",
          "name": "stderr",
          "text": [
            "<ipython-input-30-e3e93359dda0>:14: FutureWarning: You are using `torch.load` with `weights_only=False` (the current default value), which uses the default pickle module implicitly. It is possible to construct malicious pickle data which will execute arbitrary code during unpickling (See https://github.com/pytorch/pytorch/blob/main/SECURITY.md#untrusted-models for more details). In a future release, the default value for `weights_only` will be flipped to `True`. This limits the functions that could be executed during unpickling. Arbitrary objects will no longer be allowed to be loaded via this mode unless they are explicitly allowlisted by the user via `torch.serialization.add_safe_globals`. We recommend you start setting `weights_only=True` for any use case where you don't have full control of the loaded file. Please open an issue on GitHub for any issues related to this experimental feature.\n",
            "  model_fashion.load_state_dict(torch.load('cnn_mnist_model.pth'))\n"
          ]
        },
        {
          "output_type": "stream",
          "name": "stdout",
          "text": [
            "Accuracy of the model on the FashionMNIST test set: 9.42%\n"
          ]
        }
      ]
    },
    {
      "cell_type": "code",
      "source": [],
      "metadata": {
        "id": "CtTxM8sWdGSA"
      },
      "execution_count": 30,
      "outputs": []
    }
  ]
}