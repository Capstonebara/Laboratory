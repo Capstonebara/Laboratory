{
  "nbformat": 4,
  "nbformat_minor": 0,
  "metadata": {
    "colab": {
      "provenance": [],
      "gpuType": "T4"
    },
    "kernelspec": {
      "name": "python3",
      "display_name": "Python 3"
    },
    "language_info": {
      "name": "python"
    },
    "accelerator": "GPU"
  },
  "cells": [
    {
      "cell_type": "markdown",
      "source": [
        "Ex1:\n"
      ],
      "metadata": {
        "id": "_gqeTtIBPSL5"
      }
    },
    {
      "cell_type": "code",
      "source": [
        "import torch\n",
        "import numpy as np\n",
        "\n",
        "a = np.random.rand(6,2)\n",
        "b = torch.rand(4,3)\n",
        "c = torch.rand(3,4)\n",
        "\n",
        "print(b)\n",
        "#numpy to tensor\n",
        "a1 = torch.from_numpy(a)\n",
        "print('convert numpy array to tensor: ', a1)\n",
        "\n",
        "#tensor reshape\n",
        "a2 = torch.reshape(a1,(3,4))\n",
        "print('tensor reshape: ', a2)\n",
        "\n",
        "\n",
        "#transpose\n",
        "b1 = torch.transpose(b, 0, 1)\n",
        "print('transpose tensor: ', b1)\n",
        "\n",
        "#addition\n",
        "e = a2 +b1\n",
        "print('sum tensor: ', e)\n",
        "\n",
        "#element-wise\n",
        "ew = e*c\n",
        "print('element-wise: ', ew)\n",
        "\n",
        "#multi\n",
        "mm = torch.matmul(e, torch.transpose(c, 0, 1).double())\n",
        "print('multi tensor: ', mm)\n",
        "\n",
        "#tensor to numpy\n",
        "print('tensor to numpy:', mm.numpy(), type(mm.numpy()))\n"
      ],
      "metadata": {
        "colab": {
          "base_uri": "https://localhost:8080/"
        },
        "id": "2_oI5I73PQC6",
        "outputId": "84dfd0ad-e83a-45f7-e3f5-11bea8dab2ba"
      },
      "execution_count": 1,
      "outputs": [
        {
          "output_type": "stream",
          "name": "stdout",
          "text": [
            "tensor([[0.9745, 0.6298, 0.4410],\n",
            "        [0.8647, 0.3691, 0.1644],\n",
            "        [0.8491, 0.1623, 0.4048],\n",
            "        [0.5959, 0.7787, 0.7830]])\n",
            "convert numpy array to tensor:  tensor([[0.2328, 0.6654],\n",
            "        [0.4617, 0.6351],\n",
            "        [0.7945, 0.5300],\n",
            "        [0.8351, 0.3053],\n",
            "        [0.2562, 0.7938],\n",
            "        [0.4588, 0.2391]], dtype=torch.float64)\n",
            "tensor reshape:  tensor([[0.2328, 0.6654, 0.4617, 0.6351],\n",
            "        [0.7945, 0.5300, 0.8351, 0.3053],\n",
            "        [0.2562, 0.7938, 0.4588, 0.2391]], dtype=torch.float64)\n",
            "transpose tensor:  tensor([[0.9745, 0.8647, 0.8491, 0.5959],\n",
            "        [0.6298, 0.3691, 0.1623, 0.7787],\n",
            "        [0.4410, 0.1644, 0.4048, 0.7830]])\n",
            "sum tensor:  tensor([[1.2073, 1.5301, 1.3108, 1.2310],\n",
            "        [1.4243, 0.8991, 0.9974, 1.0840],\n",
            "        [0.6972, 0.9582, 0.8635, 1.0221]], dtype=torch.float64)\n",
            "element-wise:  tensor([[0.6076, 0.7681, 1.0742, 0.4442],\n",
            "        [1.1198, 0.8642, 0.9525, 0.9892],\n",
            "        [0.4762, 0.8247, 0.3223, 0.3128]], dtype=torch.float64)\n",
            "multi tensor:  tensor([[2.8940, 4.7951, 3.0075],\n",
            "        [2.3766, 3.9258, 2.4507],\n",
            "        [1.9083, 3.2266, 1.9360]], dtype=torch.float64)\n",
            "tensor to numpy: [[2.89401529 4.79514962 3.00749837]\n",
            " [2.37662711 3.92580701 2.45067208]\n",
            " [1.90834568 3.22661878 1.93603103]] <class 'numpy.ndarray'>\n"
          ]
        }
      ]
    },
    {
      "cell_type": "markdown",
      "source": [
        "Ex2:\n",
        "\n",
        "\n",
        "\n"
      ],
      "metadata": {
        "id": "WUWBTIaEPbkJ"
      }
    },
    {
      "cell_type": "code",
      "source": [
        "from torch import nn, optim\n",
        "import matplotlib.pyplot as plt\n",
        "\n",
        "\n",
        "class SimpleNN(nn.Module):\n",
        "    def __init__(self):\n",
        "        super(SimpleNN, self).__init__()\n",
        "        self.l1 = nn.Linear(1, 1)\n",
        "\n",
        "    def forward(self, x):\n",
        "        x = self.l1(x)\n",
        "        return x\n",
        "\n",
        "x = np.array([1, 2, 3, 4, 5, 6, 7, 8, 9, 10], dtype=np.float32).reshape(-1, 1)\n",
        "y = np.array([100, 150, 200, 250, 300, 350, 400, 450, 500, 550], dtype=np.float32).reshape(-1, 1)\n",
        "\n",
        "x_tensor = torch.from_numpy(x)\n",
        "y_tensor = torch.from_numpy(y)\n",
        "\n",
        "\n",
        "model = SimpleNN()\n",
        "criterion = nn.MSELoss()\n",
        "optimizer = optim.SGD(model.parameters(), lr=0.001)\n",
        "num_epochs = 200\n",
        "for epoch in range(num_epochs):\n",
        "    outputs = model(x_tensor)\n",
        "    loss = criterion(outputs, y_tensor)\n",
        "\n",
        "\n",
        "    optimizer.zero_grad()\n",
        "    loss.backward()\n",
        "    optimizer.step()\n",
        "\n",
        "    if (epoch+1) % 10 == 0:\n",
        "        print(f'Epoch [{epoch+1}/{num_epochs}], Loss: {loss.item():.4f}')\n",
        "\n",
        "\n",
        "predicted = model(x_tensor).detach().numpy()\n",
        "plt.plot(x, y, 'ro', label='Original data')\n",
        "plt.plot(x, predicted, 'b', label='Fitted line')\n",
        "\n",
        "plt.legend()\n",
        "plt.show()\n",
        "\n"
      ],
      "metadata": {
        "colab": {
          "base_uri": "https://localhost:8080/",
          "height": 777
        },
        "id": "q6Eg8D7ZPa4y",
        "outputId": "bc335cb3-e2dc-46c8-bbef-75ae7c7dba7e"
      },
      "execution_count": 2,
      "outputs": [
        {
          "output_type": "stream",
          "name": "stdout",
          "text": [
            "Epoch [10/200], Loss: 29111.1309\n",
            "Epoch [20/200], Loss: 5957.0020\n",
            "Epoch [30/200], Loss: 1448.6702\n",
            "Epoch [40/200], Loss: 568.9078\n",
            "Epoch [50/200], Loss: 395.3021\n",
            "Epoch [60/200], Loss: 359.1364\n",
            "Epoch [70/200], Loss: 349.7378\n",
            "Epoch [80/200], Loss: 345.5676\n",
            "Epoch [90/200], Loss: 342.4344\n",
            "Epoch [100/200], Loss: 339.5227\n",
            "Epoch [110/200], Loss: 336.6731\n",
            "Epoch [120/200], Loss: 333.8548\n",
            "Epoch [130/200], Loss: 331.0616\n",
            "Epoch [140/200], Loss: 328.2921\n",
            "Epoch [150/200], Loss: 325.5456\n",
            "Epoch [160/200], Loss: 322.8223\n",
            "Epoch [170/200], Loss: 320.1217\n",
            "Epoch [180/200], Loss: 317.4437\n",
            "Epoch [190/200], Loss: 314.7880\n",
            "Epoch [200/200], Loss: 312.1546\n"
          ]
        },
        {
          "output_type": "display_data",
          "data": {
            "text/plain": [
              "<Figure size 640x480 with 1 Axes>"
            ],
            "image/png": "[encoded data removed]"
          },
          "metadata": {}
        }
      ]
    },
    {
      "cell_type": "markdown",
      "source": [
        "Ex3:"
      ],
      "metadata": {
        "id": "eAfzzVZ2Qkve"
      }
    },
    {
      "cell_type": "code",
      "source": [
        "import torch\n",
        "from torch import optim, nn\n",
        "from torchvision import datasets, transforms, models\n",
        "from torchvision.transforms import ToTensor\n",
        "from torch.utils.data import DataLoader, Subset\n",
        "import matplotlib.pyplot as plt\n",
        "from torch.utils.data import DataLoader\n"
      ],
      "metadata": {
        "id": "NoTpvBTUXcJm"
      },
      "execution_count": 4,
      "outputs": []
    },
    {
      "cell_type": "code",
      "execution_count": 5,
      "metadata": {
        "colab": {
          "base_uri": "https://localhost:8080/"
        },
        "id": "Fq8LFr75ZyL_",
        "outputId": "29c6a022-cd17-4efb-f374-bebb8ad6916a"
      },
      "outputs": [
        {
          "output_type": "stream",
          "name": "stdout",
          "text": [
            "Downloading http://fashion-mnist.s3-website.eu-central-1.amazonaws.com/train-images-idx3-ubyte.gz\n",
            "Downloading http://fashion-mnist.s3-website.eu-central-1.amazonaws.com/train-images-idx3-ubyte.gz to data/FashionMNIST/raw/train-images-idx3-ubyte.gz\n"
          ]
        },
        {
          "output_type": "stream",
          "name": "stderr",
          "text": [
            "100%|██████████| 26421880/26421880 [00:11<00:00, 2245758.67it/s]\n"
          ]
        },
        {
          "output_type": "stream",
          "name": "stdout",
          "text": [
            "Extracting data/FashionMNIST/raw/train-images-idx3-ubyte.gz to data/FashionMNIST/raw\n",
            "\n",
            "Downloading http://fashion-mnist.s3-website.eu-central-1.amazonaws.com/train-labels-idx1-ubyte.gz\n",
            "Downloading http://fashion-mnist.s3-website.eu-central-1.amazonaws.com/train-labels-idx1-ubyte.gz to data/FashionMNIST/raw/train-labels-idx1-ubyte.gz\n"
          ]
        },
        {
          "output_type": "stream",
          "name": "stderr",
          "text": [
            "100%|██████████| 29515/29515 [00:00<00:00, 211637.61it/s]\n"
          ]
        },
        {
          "output_type": "stream",
          "name": "stdout",
          "text": [
            "Extracting data/FashionMNIST/raw/train-labels-idx1-ubyte.gz to data/FashionMNIST/raw\n",
            "\n",
            "Downloading http://fashion-mnist.s3-website.eu-central-1.amazonaws.com/t10k-images-idx3-ubyte.gz\n",
            "Downloading http://fashion-mnist.s3-website.eu-central-1.amazonaws.com/t10k-images-idx3-ubyte.gz to data/FashionMNIST/raw/t10k-images-idx3-ubyte.gz\n"
          ]
        },
        {
          "output_type": "stream",
          "name": "stderr",
          "text": [
            "100%|██████████| 4422102/4422102 [00:01<00:00, 3794691.52it/s]\n"
          ]
        },
        {
          "output_type": "stream",
          "name": "stdout",
          "text": [
            "Extracting data/FashionMNIST/raw/t10k-images-idx3-ubyte.gz to data/FashionMNIST/raw\n",
            "\n",
            "Downloading http://fashion-mnist.s3-website.eu-central-1.amazonaws.com/t10k-labels-idx1-ubyte.gz\n",
            "Downloading http://fashion-mnist.s3-website.eu-central-1.amazonaws.com/t10k-labels-idx1-ubyte.gz to data/FashionMNIST/raw/t10k-labels-idx1-ubyte.gz\n"
          ]
        },
        {
          "output_type": "stream",
          "name": "stderr",
          "text": [
            "100%|██████████| 5148/5148 [00:00<00:00, 22077992.83it/s]"
          ]
        },
        {
          "output_type": "stream",
          "name": "stdout",
          "text": [
            "Extracting data/FashionMNIST/raw/t10k-labels-idx1-ubyte.gz to data/FashionMNIST/raw\n",
            "\n"
          ]
        },
        {
          "output_type": "stream",
          "name": "stderr",
          "text": [
            "\n"
          ]
        }
      ],
      "source": [
        "\n",
        "data_transform = transforms.Compose([\n",
        "    transforms.RandomHorizontalFlip(p = 0.5),\n",
        "    transforms.ToTensor()\n",
        "\n",
        "])\n",
        "\n",
        "training_data = datasets.FashionMNIST(\n",
        "    root = \"data\",\n",
        "    train = True,\n",
        "    download = True,\n",
        "    transform = data_transform\n",
        ")\n",
        "\n",
        "test_data = datasets.FashionMNIST(\n",
        "    root = 'data',\n",
        "    train = False,\n",
        "    transform = data_transform\n",
        ")\n",
        "\n",
        "\n",
        "\n",
        "train_dataloader = DataLoader(training_data, batch_size = 64, shuffle = True)\n",
        "test_data_loader = DataLoader(test_data, batch_size = 64, shuffle = True)\n"
      ]
    },
    {
      "cell_type": "code",
      "source": [
        "lables_map = {\n",
        "    0: 'T-shirt',\n",
        "    1: 'Trouser',\n",
        "    2: 'Pullovers',\n",
        "    3: 'Dress',\n",
        "    4: 'Coat',\n",
        "    5: 'Sandal',\n",
        "    6: 'Shirt',\n",
        "    7: 'Sneakers',\n",
        "    8: 'Bag',\n",
        "    9: 'Ankle Boot',\n",
        "}\n",
        "\n",
        "\n",
        "figure = plt.figure(figsize=(8, 8))\n",
        "cols, rows = 3, 3\n",
        "data_iter = iter(train_dataloader)\n",
        "images, labels = next(data_iter)\n",
        "\n",
        "for i in range(1, cols * rows + 1):\n",
        "    img = images[i]\n",
        "    label = labels[i].item()\n",
        "\n",
        "    figure.add_subplot(rows, cols, i)\n",
        "    plt.title(lables_map[label])\n",
        "    plt.axis(\"off\")\n",
        "    plt.imshow(img.squeeze(), cmap='gray')\n",
        "\n",
        "plt.show()\n"
      ],
      "metadata": {
        "id": "6oiGyxDaHqJ1",
        "colab": {
          "base_uri": "https://localhost:8080/",
          "height": 675
        },
        "outputId": "2b2a5e76-9b4a-40ee-9160-a16d8323474f"
      },
      "execution_count": 6,
      "outputs": [
        {
          "output_type": "display_data",
          "data": {
            "text/plain": [
              "<Figure size 800x800 with 9 Axes>"
            ],
            "image/png": "[encoded data removed]"
          },
          "metadata": {}
        }
      ]
    },
    {
      "cell_type": "code",
      "source": [
        "class SimpleCNN(nn.Module):\n",
        "  def __init__(self):\n",
        "    super(SimpleCNN, self).__init__()\n",
        "    self.layer_stack = nn.Sequential(\n",
        "      nn.Conv2d(1,5,3),\n",
        "      nn.ReLU(),\n",
        "      nn.Conv2d(5,10,3),\n",
        "      nn.ReLU(),\n",
        "      nn.Flatten(),\n",
        "      nn.Linear(10 * 24 * 24, 120),\n",
        "      nn.Linear(120, 84),\n",
        "      nn.Linear(84, 10),\n",
        "    )\n",
        "\n",
        "  def forward(self, x):\n",
        "    return self.layer_stack(x)\n",
        "\n",
        "model = SimpleCNN()"
      ],
      "metadata": {
        "id": "ATEHuhYq6t3A"
      },
      "execution_count": 7,
      "outputs": []
    },
    {
      "cell_type": "code",
      "source": [
        "criterion = nn.CrossEntropyLoss()\n",
        "optimizer = optim.Adam(model.parameters(), lr=0.001)\n",
        "\n",
        "num_epochs = 100\n",
        "for epoch in range(num_epochs):\n",
        "    model.train()\n",
        "    running_loss = 0.0\n",
        "    for batch_idx, (images, labels) in enumerate(train_dataloader):\n",
        "\n",
        "        optimizer.zero_grad()\n",
        "        outputs = model(images)\n",
        "        loss = criterion(outputs, labels)\n",
        "        loss.backward()\n",
        "        optimizer.step()\n",
        "        running_loss += loss.item()\n",
        "\n",
        "    if (epoch + 1) % 10 == 0:\n",
        "        print(f'Epoch [{epoch + 1}/{num_epochs}], Loss: {running_loss / len(train_dataloader):.4f}')"
      ],
      "metadata": {
        "colab": {
          "base_uri": "https://localhost:8080/"
        },
        "id": "73yt1R4aRpD6",
        "outputId": "856c5e3c-dd30-4619-ccb5-b7c453e5cb17"
      },
      "execution_count": 8,
      "outputs": [
        {
          "output_type": "stream",
          "name": "stdout",
          "text": [
            "Epoch [10/100], Loss: 0.2241\n",
            "Epoch [20/100], Loss: 0.1708\n",
            "Epoch [30/100], Loss: 0.1414\n",
            "Epoch [40/100], Loss: 0.1262\n",
            "Epoch [50/100], Loss: 0.1148\n",
            "Epoch [60/100], Loss: 0.1056\n",
            "Epoch [70/100], Loss: 0.0967\n",
            "Epoch [80/100], Loss: 0.0905\n",
            "Epoch [90/100], Loss: 0.0871\n",
            "Epoch [100/100], Loss: 0.0838\n"
          ]
        }
      ]
    },
    {
      "cell_type": "code",
      "source": [
        "model.eval()\n",
        "with torch.no_grad():\n",
        "    n_correct = 0\n",
        "    n_samples = 0\n",
        "    n_class_correct = [0 for _ in range(10)]\n",
        "    n_class_samples = [0 for _ in range(10)]\n",
        "\n",
        "\n",
        "    for images, labels in test_data_loader:\n",
        "        outputs = model(images)\n",
        "        _, predicted = torch.max(outputs, 1)\n",
        "        n_samples += labels.size(0)\n",
        "        n_correct += (predicted == labels).sum().item()\n",
        "\n",
        "        for i in range(labels.size(0)):\n",
        "            label = labels[i].item()\n",
        "            pred = predicted[i].item()\n",
        "            if label == pred:\n",
        "                n_class_correct[label] += 1\n",
        "            n_class_samples[label] += 1\n",
        "\n",
        "    acc = 100.0 * n_correct / n_samples\n",
        "    print(f'Accuracy of the network: {acc:.2f} %')\n",
        "\n",
        "    for i in range(10):\n",
        "        if n_class_samples[i] > 0:\n",
        "            acc = 100.0 * n_class_correct[i] / n_class_samples[i]\n",
        "        else:\n",
        "            acc = 0.0\n",
        "        print(f'Accuracy of class {i}: {acc:.2f} %')\n",
        "\n"
      ],
      "metadata": {
        "id": "eLb216DtYySk",
        "colab": {
          "base_uri": "https://localhost:8080/"
        },
        "outputId": "63352180-bdae-4ec4-b327-c06bbcc54b25"
      },
      "execution_count": 11,
      "outputs": [
        {
          "output_type": "stream",
          "name": "stdout",
          "text": [
            "Accuracy of the network: 87.61 %\n",
            "Accuracy of class 0: 80.40 %\n",
            "Accuracy of class 1: 97.40 %\n",
            "Accuracy of class 2: 85.40 %\n",
            "Accuracy of class 3: 85.90 %\n",
            "Accuracy of class 4: 81.50 %\n",
            "Accuracy of class 5: 96.60 %\n",
            "Accuracy of class 6: 63.40 %\n",
            "Accuracy of class 7: 93.90 %\n",
            "Accuracy of class 8: 97.10 %\n",
            "Accuracy of class 9: 94.50 %\n"
          ]
        }
      ]
    },
    {
      "cell_type": "markdown",
      "source": [
        "Ex4:"
      ],
      "metadata": {
        "id": "6gHv-iYYQtKL"
      }
    },
    {
      "cell_type": "code",
      "source": [
        "data_transform = transforms.Compose([\n",
        "        transforms.RandomResizedCrop(224),\n",
        "        transforms.RandomHorizontalFlip(),\n",
        "        transforms.ToTensor(),\n",
        "        transforms.Normalize([0.5, 0.5, 0.5], [0.25, 0.25, 0.25])\n",
        "])\n",
        "\n",
        "training_data = datasets.CIFAR10(\n",
        "    root = \"data\",\n",
        "    train = True,\n",
        "    download = True,\n",
        "    transform = data_transform\n",
        ")\n",
        "\n",
        "test_data = datasets.CIFAR10(\n",
        "    root = 'data',\n",
        "    train = False,\n",
        "    transform = data_transform\n",
        ")\n",
        "\n",
        "#0: \"airplane\", 1: \"car\"\n",
        "def get_car_plane_indices(dataset):\n",
        "    return [i for i, (_, label) in enumerate(dataset) if label in [0, 1]]\n",
        "\n",
        "car_plane_indices = get_car_plane_indices(training_data)\n",
        "train_subset = Subset(training_data, car_plane_indices)\n",
        "\n",
        "\n",
        "train_dataloader = DataLoader(train_subset, batch_size=64, shuffle=True)\n",
        "car_plane_indices_test = get_car_plane_indices(test_data)\n",
        "test_subset = Subset(test_data, car_plane_indices_test)\n",
        "test_dataloader = DataLoader(test_subset, batch_size=64, shuffle=True)\n",
        "\n",
        "model = models.resnet18(pretrained=True)\n",
        "num_ftrs = model.fc.in_features\n",
        "model.fc = nn.Linear(num_ftrs, 2)\n",
        "criterion = nn.CrossEntropyLoss()\n",
        "optimizer = optim.Adam(model.parameters(), lr=0.001)"
      ],
      "metadata": {
        "id": "XK8GrywSQsnY",
        "colab": {
          "base_uri": "https://localhost:8080/"
        },
        "outputId": "45d19a6f-bd41-4d1c-ea16-8a7165eb2629"
      },
      "execution_count": 15,
      "outputs": [
        {
          "output_type": "stream",
          "name": "stdout",
          "text": [
            "Files already downloaded and verified\n"
          ]
        }
      ]
    },
    {
      "cell_type": "code",
      "source": [
        "num_epochs = 5\n",
        "for epoch in range(num_epochs):\n",
        "    model.train()\n",
        "    running_loss = 0.0\n",
        "\n",
        "    for images, labels in train_dataloader:\n",
        "        optimizer.zero_grad()\n",
        "        outputs = model(images)\n",
        "        loss = criterion(outputs, labels)\n",
        "        loss.backward()\n",
        "        optimizer.step()\n",
        "        running_loss += loss.item()\n",
        "    print(f'Epoch [{epoch+1}/{num_epochs}], Loss: {running_loss/len(train_dataloader):.4f}')\n",
        "\n",
        "print(\"Finished Training!\")"
      ],
      "metadata": {
        "id": "D_hGzGrDasdK"
      },
      "execution_count": null,
      "outputs": []
    },
    {
      "cell_type": "code",
      "source": [
        "model.eval()\n",
        "correct = 0\n",
        "total = 0\n",
        "with torch.no_grad():\n",
        "    for inputs, labels in test_data_loader:\n",
        "        outputs = model(inputs)\n",
        "        _, predicted = torch.max(outputs.data, 1)\n",
        "        total += labels.size(0)\n",
        "        correct += (predicted == labels).sum().item()\n",
        "\n",
        "accuracy = 100 * correct / total\n",
        "print(f\"Test Accuracy: {accuracy:.2f}%\")"
      ],
      "metadata": {
        "id": "XDJpjkXOSu1r"
      },
      "execution_count": null,
      "outputs": []
    },
    {
      "cell_type": "code",
      "source": [
        "torch.save(model.state_dict(), 'resnet18.pth')\n",
        "print(\"Model saved successfully!\")"
      ],
      "metadata": {
        "id": "6A7WHciGcf4J"
      },
      "execution_count": null,
      "outputs": []
    },
    {
      "cell_type": "code",
      "source": [
        "model.load_state_dict(torch.load('resnet18.pth'))\n",
        "model.eval()\n",
        "correct = 0\n",
        "total = 0\n",
        "\n",
        "with torch.no_grad():\n",
        "    for inputs, labels in test_data_loader:\n",
        "        outputs = model(inputs)\n",
        "        _, predicted = torch.max(outputs, 1)\n",
        "        total += labels.size(0)\n",
        "        correct += (predicted == labels).sum().item()\n",
        "\n",
        "accuracy = 100 * correct / total\n",
        "print(f'Test Accuracy: {accuracy:.2f}%')\n",
        ""
      ],
      "metadata": {
        "id": "LmUFh2ehl4fp"
      },
      "execution_count": null,
      "outputs": []
    }
  ]
}