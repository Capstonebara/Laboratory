{
  "nbformat": 4,
  "nbformat_minor": 0,
  "metadata": {
    "colab": {
      "provenance": [],
      "gpuType": "T4"
    },
    "kernelspec": {
      "name": "python3",
      "display_name": "Python 3"
    },
    "language_info": {
      "name": "python"
    },
    "accelerator": "GPU"
  },
  "cells": [
    {
      "cell_type": "code",
      "source": [
        "import torch\n",
        "import numpy as np\n",
        "\n",
        "device = torch.device(\"cuda\" if torch.cuda.is_available() else \"cpu\")\n",
        "print(f\"Using device: {device}\")"
      ],
      "metadata": {
        "id": "b2UyoF7RKsuq",
        "colab": {
          "base_uri": "https://localhost:8080/"
        },
        "outputId": "c68fdea9-3d6b-4545-d5a4-7c126a0237b3"
      },
      "execution_count": 1,
      "outputs": [
        {
          "output_type": "stream",
          "name": "stdout",
          "text": [
            "Using device: cuda\n"
          ]
        }
      ]
    },
    {
      "cell_type": "markdown",
      "source": [
        "# 1. PyTorch Basics: Tensor Operations"
      ],
      "metadata": {
        "id": "pbFXM4jTKKHp"
      }
    },
    {
      "cell_type": "markdown",
      "source": [
        "### Create a tensor from a NumPy array and perform element-wise operations (addition, multiplication, etc.)."
      ],
      "metadata": {
        "id": "C31z8XlXKP5-"
      }
    },
    {
      "cell_type": "code",
      "source": [
        "tensor = np.array([[[1, 2, 3],\n",
        "                    [3, 6, 9],\n",
        "                    [2, 4, 5]]])\n",
        "tensor = torch.tensor(tensor)\n",
        "tensor"
      ],
      "metadata": {
        "colab": {
          "base_uri": "https://localhost:8080/"
        },
        "id": "yjqyuDeuKMgn",
        "outputId": "a3675559-411d-4aba-ba52-9f075998c3d0"
      },
      "execution_count": 2,
      "outputs": [
        {
          "output_type": "execute_result",
          "data": {
            "text/plain": [
              "tensor([[[1, 2, 3],\n",
              "         [3, 6, 9],\n",
              "         [2, 4, 5]]])"
            ]
          },
          "metadata": {},
          "execution_count": 2
        }
      ]
    },
    {
      "cell_type": "code",
      "source": [
        "tensor"
      ],
      "metadata": {
        "colab": {
          "base_uri": "https://localhost:8080/"
        },
        "id": "C-ShWkFFgUUz",
        "outputId": "bb55954b-ef6d-4a65-8b56-bcc40d1766e5"
      },
      "execution_count": 3,
      "outputs": [
        {
          "output_type": "execute_result",
          "data": {
            "text/plain": [
              "tensor([[[1, 2, 3],\n",
              "         [3, 6, 9],\n",
              "         [2, 4, 5]]])"
            ]
          },
          "metadata": {},
          "execution_count": 3
        }
      ]
    },
    {
      "cell_type": "code",
      "source": [
        "# Hadamard Product (Element -wise Multiplication)\n",
        "mul = tensor * tensor\n",
        "print('Hadamard Product (Element -wise Multiplication)')\n",
        "print(mul)\n",
        "\n",
        "# Dot Product\n",
        "print(\"tensor.matmul(tensor)\")\n",
        "print(tensor.matmul(tensor))\n"
      ],
      "metadata": {
        "colab": {
          "base_uri": "https://localhost:8080/"
        },
        "id": "-OHdj9TILJ5v",
        "outputId": "14c42f94-d5e4-4d88-d59f-4fddcb983434"
      },
      "execution_count": 4,
      "outputs": [
        {
          "output_type": "stream",
          "name": "stdout",
          "text": [
            "Hadamard Product (Element -wise Multiplication)\n",
            "tensor([[[ 1,  4,  9],\n",
            "         [ 9, 36, 81],\n",
            "         [ 4, 16, 25]]])\n",
            "tensor.matmul(tensor)\n",
            "tensor([[[ 13,  26,  36],\n",
            "         [ 39,  78, 108],\n",
            "         [ 24,  48,  67]]])\n"
          ]
        }
      ]
    },
    {
      "cell_type": "code",
      "source": [
        "add = tensor + tensor\n",
        "add"
      ],
      "metadata": {
        "colab": {
          "base_uri": "https://localhost:8080/"
        },
        "id": "fCrtzkJ2MGnN",
        "outputId": "8345e6ad-6ec7-462b-80dc-0ea371c67108"
      },
      "execution_count": 5,
      "outputs": [
        {
          "output_type": "execute_result",
          "data": {
            "text/plain": [
              "tensor([[[ 2,  4,  6],\n",
              "         [ 6, 12, 18],\n",
              "         [ 4,  8, 10]]])"
            ]
          },
          "metadata": {},
          "execution_count": 5
        }
      ]
    },
    {
      "cell_type": "markdown",
      "source": [
        "### Convert a tensor back to a NumPy array."
      ],
      "metadata": {
        "id": "Z-j-OjGoMcEg"
      }
    },
    {
      "cell_type": "code",
      "source": [
        "nparr = tensor.numpy()\n",
        "nparr"
      ],
      "metadata": {
        "colab": {
          "base_uri": "https://localhost:8080/"
        },
        "id": "ARldkTJNMJrJ",
        "outputId": "8b1ef5c3-b7b9-4ea1-ce5f-f31677105c1a"
      },
      "execution_count": 6,
      "outputs": [
        {
          "output_type": "execute_result",
          "data": {
            "text/plain": [
              "array([[[1, 2, 3],\n",
              "        [3, 6, 9],\n",
              "        [2, 4, 5]]])"
            ]
          },
          "metadata": {},
          "execution_count": 6
        }
      ]
    },
    {
      "cell_type": "markdown",
      "source": [
        "### Perform matrix multiplication between two 2D tensors."
      ],
      "metadata": {
        "id": "BNh-KdPtOWid"
      }
    },
    {
      "cell_type": "code",
      "source": [
        "twodims_tensor = torch.tensor([[1, 2, 3],\n",
        "                               [3, 6, 9],\n",
        "                               [2, 4, 5]])\n",
        "twodims_tensor"
      ],
      "metadata": {
        "colab": {
          "base_uri": "https://localhost:8080/"
        },
        "id": "3rqXMt5XMsDI",
        "outputId": "169d854f-4d84-46ac-f452-4b10ad3b5046"
      },
      "execution_count": 7,
      "outputs": [
        {
          "output_type": "execute_result",
          "data": {
            "text/plain": [
              "tensor([[1, 2, 3],\n",
              "        [3, 6, 9],\n",
              "        [2, 4, 5]])"
            ]
          },
          "metadata": {},
          "execution_count": 7
        }
      ]
    },
    {
      "cell_type": "code",
      "source": [
        "mul_2d = twodims_tensor.matmul(twodims_tensor)\n",
        "mul_2d"
      ],
      "metadata": {
        "colab": {
          "base_uri": "https://localhost:8080/"
        },
        "id": "-mumj6DKOdhQ",
        "outputId": "bf5e293d-445b-4319-eada-80c2de89eabe"
      },
      "execution_count": 8,
      "outputs": [
        {
          "output_type": "execute_result",
          "data": {
            "text/plain": [
              "tensor([[ 13,  26,  36],\n",
              "        [ 39,  78, 108],\n",
              "        [ 24,  48,  67]])"
            ]
          },
          "metadata": {},
          "execution_count": 8
        }
      ]
    },
    {
      "cell_type": "markdown",
      "source": [
        "### Reshape and transpose a tensor."
      ],
      "metadata": {
        "id": "9m_3Cd-gO32-"
      }
    },
    {
      "cell_type": "code",
      "source": [
        "# reshape\n",
        "tensor_reshape = torch.reshape(tensor, (-1,))\n",
        "print('reshape tensor to vector 1d: ')\n",
        "print(tensor_reshape)\n",
        "\n",
        "print('')\n",
        "\n",
        "# transpose 2d\n",
        "tensor_transpose = twodims_tensor.T\n",
        "print('transpose 2d tensor: ')\n",
        "print(tensor_transpose)"
      ],
      "metadata": {
        "colab": {
          "base_uri": "https://localhost:8080/"
        },
        "id": "rmjd1LVXOqvX",
        "outputId": "b33e7004-b11b-43af-c39c-45b3feddc609"
      },
      "execution_count": 9,
      "outputs": [
        {
          "output_type": "stream",
          "name": "stdout",
          "text": [
            "reshape tensor to vector 1d: \n",
            "tensor([1, 2, 3, 3, 6, 9, 2, 4, 5])\n",
            "\n",
            "transpose 2d tensor: \n",
            "tensor([[1, 3, 2],\n",
            "        [2, 6, 4],\n",
            "        [3, 9, 5]])\n"
          ]
        }
      ]
    },
    {
      "cell_type": "markdown",
      "source": [
        "### **2. Simple Neural Network from Scratch**\n",
        "\n",
        "- **Task**: Build a simple neural network using PyTorch's `nn.Module` class:\n",
        "    - Create a fully connected feedforward neural network with one hidden layer (you can specify the size).\n",
        "    - Use ReLU as the activation function and MSELoss for loss calculation.\n",
        "    - Implement the forward pass and backpropagation manually.\n",
        "    - Use random data (inputs and targets) to train the network for 100 epochs.\n",
        "\n"
      ],
      "metadata": {
        "id": "02ExKUSkBpZ_"
      }
    },
    {
      "cell_type": "code",
      "source": [
        "import torch\n",
        "import torch.nn as nn\n",
        "import torch.optim as optim\n",
        "\n",
        "class FeedforwardNeuralNetModel(nn.Module):\n",
        "    def __init__(self, input_dim, hidden_dim, output_dim):\n",
        "        super(FeedforwardNeuralNetModel, self).__init__()\n",
        "        # Linear function\n",
        "        self.fc1 = nn.Linear(input_dim, hidden_dim)\n",
        "        # Non-linearity\n",
        "        self.relu = nn.ReLU()\n",
        "        # Linear function (readout)\n",
        "        self.fc2 = nn.Linear(hidden_dim, output_dim)\n",
        "\n",
        "    def forward(self, x):\n",
        "        # Linear function  # LINEAR\n",
        "        out = self.fc1(x)\n",
        "        # Non-linearity  # NON-LINEAR\n",
        "        out = self.relu(out)\n",
        "        # Linear function (readout)  # LINEAR\n",
        "        out = self.fc2(out)\n",
        "        return out"
      ],
      "metadata": {
        "id": "WRIl_DoCPfQG"
      },
      "execution_count": 10,
      "outputs": []
    },
    {
      "cell_type": "code",
      "source": [
        "# Initialize the network, loss function, and optimizer\n",
        "input_size = 10   # Example input size\n",
        "hidden_size = 5   # Example c layer size\n",
        "output_size = 1   # Example output size\n",
        "\n",
        "\n",
        "model = FeedforwardNeuralNetModel(input_size, hidden_size, output_size)\n",
        "criterion = nn.MSELoss()\n",
        "optimizer = optim.SGD(model.parameters(), lr=0.01)"
      ],
      "metadata": {
        "id": "8R7Y7xtsUhxq"
      },
      "execution_count": 11,
      "outputs": []
    },
    {
      "cell_type": "code",
      "source": [
        "# Generate random input data and target outputs\n",
        "inputs = torch.randn(100, input_size)  # 100 samples of input data\n",
        "targets = torch.randn(100, output_size)  # 100 corresponding target outputs"
      ],
      "metadata": {
        "id": "85SQ0SHLVra6"
      },
      "execution_count": 12,
      "outputs": []
    },
    {
      "cell_type": "code",
      "source": [
        "# Train the network for 100 epochs\n",
        "epochs = 1000\n",
        "for epoch in range(epochs):\n",
        "    # Forward pass\n",
        "    outputs = model(inputs)\n",
        "    loss = criterion(outputs, targets)\n",
        "\n",
        "    # Backward pass (manually implemented)\n",
        "    optimizer.zero_grad()  # Zero the gradients\n",
        "    loss.backward()  # Backpropagate the loss\n",
        "    optimizer.step()  # Update the weights\n",
        "\n",
        "    # Print loss every 10 epochs\n",
        "    if (epoch+1) % 10 == 0:\n",
        "      print(f'Epoch [{epoch+1}/{epochs}], Loss: {loss.item():.4f}')"
      ],
      "metadata": {
        "colab": {
          "base_uri": "https://localhost:8080/"
        },
        "id": "sL3elYIOVtzw",
        "outputId": "e25e22ae-bc80-45a6-bf88-8f7828141173"
      },
      "execution_count": 13,
      "outputs": [
        {
          "output_type": "stream",
          "name": "stdout",
          "text": [
            "Epoch [10/1000], Loss: 1.1814\n",
            "Epoch [20/1000], Loss: 1.1716\n",
            "Epoch [30/1000], Loss: 1.1647\n",
            "Epoch [40/1000], Loss: 1.1595\n",
            "Epoch [50/1000], Loss: 1.1557\n",
            "Epoch [60/1000], Loss: 1.1525\n",
            "Epoch [70/1000], Loss: 1.1494\n",
            "Epoch [80/1000], Loss: 1.1466\n",
            "Epoch [90/1000], Loss: 1.1438\n",
            "Epoch [100/1000], Loss: 1.1411\n",
            "Epoch [110/1000], Loss: 1.1384\n",
            "Epoch [120/1000], Loss: 1.1358\n",
            "Epoch [130/1000], Loss: 1.1332\n",
            "Epoch [140/1000], Loss: 1.1303\n",
            "Epoch [150/1000], Loss: 1.1273\n",
            "Epoch [160/1000], Loss: 1.1242\n",
            "Epoch [170/1000], Loss: 1.1211\n",
            "Epoch [180/1000], Loss: 1.1178\n",
            "Epoch [190/1000], Loss: 1.1146\n",
            "Epoch [200/1000], Loss: 1.1113\n",
            "Epoch [210/1000], Loss: 1.1080\n",
            "Epoch [220/1000], Loss: 1.1044\n",
            "Epoch [230/1000], Loss: 1.1004\n",
            "Epoch [240/1000], Loss: 1.0964\n",
            "Epoch [250/1000], Loss: 1.0922\n",
            "Epoch [260/1000], Loss: 1.0880\n",
            "Epoch [270/1000], Loss: 1.0837\n",
            "Epoch [280/1000], Loss: 1.0795\n",
            "Epoch [290/1000], Loss: 1.0754\n",
            "Epoch [300/1000], Loss: 1.0714\n",
            "Epoch [310/1000], Loss: 1.0678\n",
            "Epoch [320/1000], Loss: 1.0646\n",
            "Epoch [330/1000], Loss: 1.0613\n",
            "Epoch [340/1000], Loss: 1.0580\n",
            "Epoch [350/1000], Loss: 1.0547\n",
            "Epoch [360/1000], Loss: 1.0514\n",
            "Epoch [370/1000], Loss: 1.0481\n",
            "Epoch [380/1000], Loss: 1.0447\n",
            "Epoch [390/1000], Loss: 1.0414\n",
            "Epoch [400/1000], Loss: 1.0380\n",
            "Epoch [410/1000], Loss: 1.0347\n",
            "Epoch [420/1000], Loss: 1.0313\n",
            "Epoch [430/1000], Loss: 1.0279\n",
            "Epoch [440/1000], Loss: 1.0245\n",
            "Epoch [450/1000], Loss: 1.0205\n",
            "Epoch [460/1000], Loss: 1.0165\n",
            "Epoch [470/1000], Loss: 1.0126\n",
            "Epoch [480/1000], Loss: 1.0087\n",
            "Epoch [490/1000], Loss: 1.0046\n",
            "Epoch [500/1000], Loss: 1.0006\n",
            "Epoch [510/1000], Loss: 0.9967\n",
            "Epoch [520/1000], Loss: 0.9927\n",
            "Epoch [530/1000], Loss: 0.9887\n",
            "Epoch [540/1000], Loss: 0.9848\n",
            "Epoch [550/1000], Loss: 0.9810\n",
            "Epoch [560/1000], Loss: 0.9772\n",
            "Epoch [570/1000], Loss: 0.9735\n",
            "Epoch [580/1000], Loss: 0.9698\n",
            "Epoch [590/1000], Loss: 0.9659\n",
            "Epoch [600/1000], Loss: 0.9621\n",
            "Epoch [610/1000], Loss: 0.9583\n",
            "Epoch [620/1000], Loss: 0.9546\n",
            "Epoch [630/1000], Loss: 0.9510\n",
            "Epoch [640/1000], Loss: 0.9475\n",
            "Epoch [650/1000], Loss: 0.9440\n",
            "Epoch [660/1000], Loss: 0.9405\n",
            "Epoch [670/1000], Loss: 0.9370\n",
            "Epoch [680/1000], Loss: 0.9336\n",
            "Epoch [690/1000], Loss: 0.9302\n",
            "Epoch [700/1000], Loss: 0.9266\n",
            "Epoch [710/1000], Loss: 0.9231\n",
            "Epoch [720/1000], Loss: 0.9194\n",
            "Epoch [730/1000], Loss: 0.9161\n",
            "Epoch [740/1000], Loss: 0.9127\n",
            "Epoch [750/1000], Loss: 0.9093\n",
            "Epoch [760/1000], Loss: 0.9061\n",
            "Epoch [770/1000], Loss: 0.9029\n",
            "Epoch [780/1000], Loss: 0.8998\n",
            "Epoch [790/1000], Loss: 0.8968\n",
            "Epoch [800/1000], Loss: 0.8939\n",
            "Epoch [810/1000], Loss: 0.8911\n",
            "Epoch [820/1000], Loss: 0.8883\n",
            "Epoch [830/1000], Loss: 0.8855\n",
            "Epoch [840/1000], Loss: 0.8827\n",
            "Epoch [850/1000], Loss: 0.8800\n",
            "Epoch [860/1000], Loss: 0.8773\n",
            "Epoch [870/1000], Loss: 0.8747\n",
            "Epoch [880/1000], Loss: 0.8721\n",
            "Epoch [890/1000], Loss: 0.8694\n",
            "Epoch [900/1000], Loss: 0.8667\n",
            "Epoch [910/1000], Loss: 0.8643\n",
            "Epoch [920/1000], Loss: 0.8619\n",
            "Epoch [930/1000], Loss: 0.8595\n",
            "Epoch [940/1000], Loss: 0.8571\n",
            "Epoch [950/1000], Loss: 0.8546\n",
            "Epoch [960/1000], Loss: 0.8523\n",
            "Epoch [970/1000], Loss: 0.8499\n",
            "Epoch [980/1000], Loss: 0.8477\n",
            "Epoch [990/1000], Loss: 0.8456\n",
            "Epoch [1000/1000], Loss: 0.8435\n"
          ]
        }
      ]
    },
    {
      "cell_type": "markdown",
      "source": [
        "### **3. Train a CNN on MNIST**\n",
        "\n",
        "- **Task**: Train a model to classify digits from the MNIST dataset:\n",
        "    - Use `torchvision.datasets.MNIST` to load the dataset.\n",
        "    - Build a convolutional neural network (CNN) using `nn.Conv2d`, `nn.MaxPool2d`, and `nn.Linear`.\n",
        "    - Train the model for at least 5 epochs using the Adam optimizer and cross-entropy loss.\n",
        "    - Plot the training loss after each epoch."
      ],
      "metadata": {
        "id": "jme92lI9YHAz"
      }
    },
    {
      "cell_type": "code",
      "source": [
        "import torch\n",
        "import torch.nn as nn\n",
        "import torchvision.transforms as transforms\n",
        "import torchvision"
      ],
      "metadata": {
        "id": "Ilccng5YYGge"
      },
      "execution_count": 14,
      "outputs": []
    },
    {
      "cell_type": "code",
      "source": [
        "'''\n",
        "STEP 1: LOADING DATASET\n",
        "'''\n",
        "\n",
        "train_dataset = torchvision.datasets.MNIST(root='./data',\n",
        "                            train=True,\n",
        "                            transform=transforms.ToTensor(),\n",
        "                            download=True)\n",
        "\n",
        "test_dataset = torchvision.datasets.MNIST(root='./data',\n",
        "                           train=False,\n",
        "                           transform=transforms.ToTensor())"
      ],
      "metadata": {
        "colab": {
          "base_uri": "https://localhost:8080/"
        },
        "id": "TeE1YoC0VuFQ",
        "outputId": "c288e2fb-0b86-4b5a-a242-d08736aad4f2"
      },
      "execution_count": 15,
      "outputs": [
        {
          "output_type": "stream",
          "name": "stdout",
          "text": [
            "Downloading http://yann.lecun.com/exdb/mnist/train-images-idx3-ubyte.gz\n",
            "Failed to download (trying next):\n",
            "HTTP Error 403: Forbidden\n",
            "\n",
            "Downloading https://ossci-datasets.s3.amazonaws.com/mnist/train-images-idx3-ubyte.gz\n",
            "Downloading https://ossci-datasets.s3.amazonaws.com/mnist/train-images-idx3-ubyte.gz to ./data/MNIST/raw/train-images-idx3-ubyte.gz\n"
          ]
        },
        {
          "output_type": "stream",
          "name": "stderr",
          "text": [
            "100%|██████████| 9912422/9912422 [00:00<00:00, 16296946.75it/s]\n"
          ]
        },
        {
          "output_type": "stream",
          "name": "stdout",
          "text": [
            "Extracting ./data/MNIST/raw/train-images-idx3-ubyte.gz to ./data/MNIST/raw\n",
            "\n",
            "Downloading http://yann.lecun.com/exdb/mnist/train-labels-idx1-ubyte.gz\n",
            "Failed to download (trying next):\n",
            "HTTP Error 403: Forbidden\n",
            "\n",
            "Downloading https://ossci-datasets.s3.amazonaws.com/mnist/train-labels-idx1-ubyte.gz\n",
            "Downloading https://ossci-datasets.s3.amazonaws.com/mnist/train-labels-idx1-ubyte.gz to ./data/MNIST/raw/train-labels-idx1-ubyte.gz\n"
          ]
        },
        {
          "output_type": "stream",
          "name": "stderr",
          "text": [
            "100%|██████████| 28881/28881 [00:00<00:00, 494427.37it/s]\n"
          ]
        },
        {
          "output_type": "stream",
          "name": "stdout",
          "text": [
            "Extracting ./data/MNIST/raw/train-labels-idx1-ubyte.gz to ./data/MNIST/raw\n",
            "\n",
            "Downloading http://yann.lecun.com/exdb/mnist/t10k-images-idx3-ubyte.gz\n",
            "Failed to download (trying next):\n",
            "HTTP Error 403: Forbidden\n",
            "\n",
            "Downloading https://ossci-datasets.s3.amazonaws.com/mnist/t10k-images-idx3-ubyte.gz\n",
            "Downloading https://ossci-datasets.s3.amazonaws.com/mnist/t10k-images-idx3-ubyte.gz to ./data/MNIST/raw/t10k-images-idx3-ubyte.gz\n"
          ]
        },
        {
          "output_type": "stream",
          "name": "stderr",
          "text": [
            "100%|██████████| 1648877/1648877 [00:00<00:00, 4529050.22it/s]\n"
          ]
        },
        {
          "output_type": "stream",
          "name": "stdout",
          "text": [
            "Extracting ./data/MNIST/raw/t10k-images-idx3-ubyte.gz to ./data/MNIST/raw\n",
            "\n",
            "Downloading http://yann.lecun.com/exdb/mnist/t10k-labels-idx1-ubyte.gz\n",
            "Failed to download (trying next):\n",
            "HTTP Error 403: Forbidden\n",
            "\n",
            "Downloading https://ossci-datasets.s3.amazonaws.com/mnist/t10k-labels-idx1-ubyte.gz\n",
            "Downloading https://ossci-datasets.s3.amazonaws.com/mnist/t10k-labels-idx1-ubyte.gz to ./data/MNIST/raw/t10k-labels-idx1-ubyte.gz\n"
          ]
        },
        {
          "output_type": "stream",
          "name": "stderr",
          "text": [
            "100%|██████████| 4542/4542 [00:00<00:00, 5622942.38it/s]"
          ]
        },
        {
          "output_type": "stream",
          "name": "stdout",
          "text": [
            "Extracting ./data/MNIST/raw/t10k-labels-idx1-ubyte.gz to ./data/MNIST/raw\n",
            "\n"
          ]
        },
        {
          "output_type": "stream",
          "name": "stderr",
          "text": [
            "\n"
          ]
        }
      ]
    },
    {
      "cell_type": "code",
      "source": [
        "# train data\n",
        "print(train_dataset.train_data.size())\n",
        "# test data\n",
        "print(test_dataset.test_data.size())"
      ],
      "metadata": {
        "colab": {
          "base_uri": "https://localhost:8080/"
        },
        "id": "a-SBckc9Z2RM",
        "outputId": "7861bf46-142b-4694-dad9-4c9d4e4c0015"
      },
      "execution_count": 16,
      "outputs": [
        {
          "output_type": "stream",
          "name": "stdout",
          "text": [
            "torch.Size([60000, 28, 28])\n",
            "torch.Size([10000, 28, 28])\n"
          ]
        },
        {
          "output_type": "stream",
          "name": "stderr",
          "text": [
            "/usr/local/lib/python3.10/dist-packages/torchvision/datasets/mnist.py:76: UserWarning: train_data has been renamed data\n",
            "  warnings.warn(\"train_data has been renamed data\")\n",
            "/usr/local/lib/python3.10/dist-packages/torchvision/datasets/mnist.py:81: UserWarning: test_data has been renamed data\n",
            "  warnings.warn(\"test_data has been renamed data\")\n"
          ]
        }
      ]
    },
    {
      "cell_type": "code",
      "source": [
        "# train label\n",
        "print(train_dataset.train_labels.size())\n",
        "# test label\n",
        "print(test_dataset.test_labels.size())"
      ],
      "metadata": {
        "colab": {
          "base_uri": "https://localhost:8080/"
        },
        "id": "BJmXnp8IahWO",
        "outputId": "1081af45-ee08-43b2-9de6-715e8f7cad0d"
      },
      "execution_count": 17,
      "outputs": [
        {
          "output_type": "stream",
          "name": "stdout",
          "text": [
            "torch.Size([60000])\n",
            "torch.Size([10000])\n"
          ]
        },
        {
          "output_type": "stream",
          "name": "stderr",
          "text": [
            "/usr/local/lib/python3.10/dist-packages/torchvision/datasets/mnist.py:66: UserWarning: train_labels has been renamed targets\n",
            "  warnings.warn(\"train_labels has been renamed targets\")\n",
            "/usr/local/lib/python3.10/dist-packages/torchvision/datasets/mnist.py:71: UserWarning: test_labels has been renamed targets\n",
            "  warnings.warn(\"test_labels has been renamed targets\")\n"
          ]
        }
      ]
    },
    {
      "cell_type": "code",
      "source": [
        "# Make Dataset Iterable\n",
        "batch_size = 100\n",
        "n_iters = 3000\n",
        "num_epochs = n_iters / (len(train_dataset) / batch_size)\n",
        "num_epochs = int(num_epochs)\n",
        "\n",
        "train_loader = torch.utils.data.DataLoader(dataset=train_dataset,\n",
        "                                           batch_size=batch_size,\n",
        "                                           shuffle=True)\n",
        "\n",
        "test_loader = torch.utils.data.DataLoader(dataset=test_dataset,\n",
        "                                          batch_size=batch_size,\n",
        "                                          shuffle=False)"
      ],
      "metadata": {
        "id": "TPCR1hGsa3nn"
      },
      "execution_count": 18,
      "outputs": []
    },
    {
      "cell_type": "code",
      "source": [
        "num_epochs"
      ],
      "metadata": {
        "colab": {
          "base_uri": "https://localhost:8080/"
        },
        "id": "Vzi1ggwMchYh",
        "outputId": "67ec7c80-6c85-4498-8e4e-f980efacc4c0"
      },
      "execution_count": 19,
      "outputs": [
        {
          "output_type": "execute_result",
          "data": {
            "text/plain": [
              "5"
            ]
          },
          "metadata": {},
          "execution_count": 19
        }
      ]
    },
    {
      "cell_type": "code",
      "source": [
        "# CNN Architecture\n",
        "\n",
        "class CNNModel(nn.Module):\n",
        "    def __init__(self):\n",
        "        super(CNNModel, self).__init__()\n",
        "\n",
        "        # Convolution 1\n",
        "        self.cnn1 = nn.Conv2d(in_channels=1, out_channels=16, kernel_size=5, stride=1, padding=2)\n",
        "        self.relu1 = nn.ReLU()\n",
        "\n",
        "        # Max pool 1\n",
        "        self.maxpool1 = nn.MaxPool2d(kernel_size=2)\n",
        "\n",
        "        # Convolution 2\n",
        "        self.cnn2 = nn.Conv2d(in_channels=16, out_channels=32, kernel_size=5, stride=1, padding=2)\n",
        "        self.relu2 = nn.ReLU()\n",
        "\n",
        "        # Max pool 2\n",
        "        self.maxpool2 = nn.MaxPool2d(kernel_size=2)\n",
        "\n",
        "        # Fully connected 1 (readout)\n",
        "        self.fc1 = nn.Linear(32 * 7 * 7, 10)\n",
        "\n",
        "    def forward(self, x):\n",
        "        # Convolution 1\n",
        "        out = self.cnn1(x)\n",
        "        out = self.relu1(out)\n",
        "\n",
        "        # Max pool 1\n",
        "        out = self.maxpool1(out)\n",
        "\n",
        "        # Convolution 2\n",
        "        out = self.cnn2(out)\n",
        "        out = self.relu2(out)\n",
        "\n",
        "        # Max pool 2\n",
        "        out = self.maxpool2(out)\n",
        "\n",
        "        # Resize\n",
        "        # Original size: (100, 32, 7, 7)\n",
        "        # out.size(0): 100\n",
        "        # New out size: (100, 32*7*7)\n",
        "        out = out.view(out.size(0), -1)\n",
        "\n",
        "        # Linear function (readout)\n",
        "        out = self.fc1(out)\n",
        "\n",
        "        return out"
      ],
      "metadata": {
        "id": "9rlHzVxWcqW-"
      },
      "execution_count": 20,
      "outputs": []
    },
    {
      "cell_type": "code",
      "source": [
        "model = CNNModel()\n",
        "model = model.to(device)"
      ],
      "metadata": {
        "id": "iV8bsKm3drG1"
      },
      "execution_count": 21,
      "outputs": []
    },
    {
      "cell_type": "code",
      "source": [
        "criterion = nn.CrossEntropyLoss()\n",
        "learning_rate = 0.01\n",
        "\n",
        "optimizer = torch.optim.Adam(model.parameters(), lr=learning_rate)"
      ],
      "metadata": {
        "id": "oELKx8ptdwUH"
      },
      "execution_count": 22,
      "outputs": []
    },
    {
      "cell_type": "code",
      "source": [
        "print(model.parameters())\n",
        "\n",
        "print(len(list(model.parameters())))\n",
        "\n",
        "# Convolution 1: 16 Kernels\n",
        "print(list(model.parameters())[0].size())\n",
        "\n",
        "# Convolution 1 Bias: 16 Kernels\n",
        "print(list(model.parameters())[1].size())\n",
        "\n",
        "# Convolution 2: 32 Kernels with depth = 16\n",
        "print(list(model.parameters())[2].size())\n",
        "\n",
        "# Convolution 2 Bias: 32 Kernels with depth = 16\n",
        "print(list(model.parameters())[3].size())\n",
        "\n",
        "# Fully Connected Layer 1\n",
        "print(list(model.parameters())[4].size())\n",
        "\n",
        "# Fully Connected Layer Bias\n",
        "print(list(model.parameters())[5].size())"
      ],
      "metadata": {
        "colab": {
          "base_uri": "https://localhost:8080/"
        },
        "id": "88c2taDRd5Hj",
        "outputId": "a70a583f-ee4e-4f6a-fbe7-c9fe39573126"
      },
      "execution_count": 23,
      "outputs": [
        {
          "output_type": "stream",
          "name": "stdout",
          "text": [
            "<generator object Module.parameters at 0x7edbfe494430>\n",
            "6\n",
            "torch.Size([16, 1, 5, 5])\n",
            "torch.Size([16])\n",
            "torch.Size([32, 16, 5, 5])\n",
            "torch.Size([32])\n",
            "torch.Size([10, 1568])\n",
            "torch.Size([10])\n"
          ]
        }
      ]
    },
    {
      "cell_type": "code",
      "source": [
        "loss_list = []\n",
        "accuracy_list = []\n",
        "iter_list = []\n",
        "\n",
        "iter = 0\n",
        "for epoch in range(num_epochs):\n",
        "    for i, (images, labels) in enumerate(train_loader):\n",
        "        # Load images\n",
        "        images = images.requires_grad_()\n",
        "        images = images.to(device)\n",
        "\n",
        "        labels = labels.to(device)\n",
        "\n",
        "        # Clear gradients w.r.t. parameters\n",
        "        optimizer.zero_grad()\n",
        "\n",
        "        # Forward pass to get output/logits\n",
        "        outputs = model(images)\n",
        "\n",
        "        # Calculate Loss: softmax --> cross entropy loss\n",
        "        loss = criterion(outputs, labels)\n",
        "\n",
        "        # Getting gradients w.r.t. parameters\n",
        "        loss.backward()\n",
        "\n",
        "        # Updating parameters\n",
        "        optimizer.step()\n",
        "\n",
        "        iter += 1\n",
        "\n",
        "        if iter % 500 == 0:\n",
        "            # Calculate Accuracy\n",
        "            correct = 0\n",
        "            total = 0\n",
        "            # Iterate through test dataset\n",
        "            for images, labels in test_loader:\n",
        "                # Load images\n",
        "                images = images.requires_grad_()\n",
        "                images = images.to(device)\n",
        "\n",
        "                labels = labels.to(device)\n",
        "\n",
        "                # Forward pass only to get logits/output\n",
        "                outputs = model(images)\n",
        "\n",
        "                # Get predictions from the maximum value\n",
        "                _, predicted = torch.max(outputs.data, 1)\n",
        "\n",
        "                # Total number of labels\n",
        "                total += labels.size(0)\n",
        "\n",
        "                # Total correct predictions\n",
        "                correct += (predicted == labels).sum()\n",
        "\n",
        "            accuracy = 100 * correct / total\n",
        "\n",
        "            # Store loss and accuracy for plotting\n",
        "            loss_list.append(loss.item())\n",
        "            accuracy_list.append(accuracy.item())\n",
        "            iter_list.append(iter)\n",
        "\n",
        "            # Print Loss and Accuracy\n",
        "            print(f\"Iteration: {iter}. Loss: {loss.item()}. Accuracy: {accuracy.item()}\")"
      ],
      "metadata": {
        "colab": {
          "base_uri": "https://localhost:8080/"
        },
        "id": "X8fsq8OMd-tN",
        "outputId": "81e9aea6-3bcf-483d-adbb-415b4b4b7589"
      },
      "execution_count": 24,
      "outputs": [
        {
          "output_type": "stream",
          "name": "stdout",
          "text": [
            "Iteration: 500. Loss: 0.004143229220062494. Accuracy: 98.04999542236328\n",
            "Iteration: 1000. Loss: 0.053776536136865616. Accuracy: 98.16999816894531\n",
            "Iteration: 1500. Loss: 0.0049263425171375275. Accuracy: 98.40999603271484\n",
            "Iteration: 2000. Loss: 0.025696933269500732. Accuracy: 98.8699951171875\n",
            "Iteration: 2500. Loss: 0.041132498532533646. Accuracy: 98.54999542236328\n",
            "Iteration: 3000. Loss: 0.0024243223015218973. Accuracy: 98.25\n"
          ]
        }
      ]
    },
    {
      "cell_type": "code",
      "source": [
        "import matplotlib.pyplot as plt\n",
        "\n",
        "# Plot loss and accuracy\n",
        "plt.figure(figsize=(12, 4))\n",
        "\n",
        "# Plot loss\n",
        "plt.subplot(1, 2, 1)\n",
        "plt.plot(iter_list, loss_list, label=\"Loss\")\n",
        "plt.xlabel(\"Iterations\")\n",
        "plt.ylabel(\"Loss\")\n",
        "plt.title(\"Loss vs. Iterations\")\n",
        "plt.legend()\n",
        "\n",
        "# Plot accuracy\n",
        "plt.subplot(1, 2, 2)\n",
        "plt.plot(iter_list, accuracy_list, label=\"Accuracy\")\n",
        "plt.xlabel(\"Iterations\")\n",
        "plt.ylabel(\"Accuracy (%)\")\n",
        "plt.title(\"Accuracy vs. Iterations\")\n",
        "plt.legend()\n",
        "\n",
        "plt.show()"
      ],
      "metadata": {
        "colab": {
          "base_uri": "https://localhost:8080/",
          "height": 410
        },
        "id": "xslW-RPPTZ0r",
        "outputId": "a90058fc-bfa8-43ba-c08e-d620607dca58"
      },
      "execution_count": 25,
      "outputs": [
        {
          "output_type": "display_data",
          "data": {
            "text/plain": [
              "<Figure size 1200x400 with 2 Axes>"
            ],
            "image/png": "[encoded data removed]"
          },
          "metadata": {}
        }
      ]
    },
    {
      "cell_type": "markdown",
      "source": [
        "### **4. Transfer Learning with Pretrained Models**\n",
        "\n",
        "- **Task**: Fine-tune a pretrained model (e.g., ResNet) for a binary classification task:\n",
        "    - Use `torchvision.models` to load a pretrained ResNet model.\n",
        "    - Modify the last layer to output two classes.\n",
        "    - Use the CIFAR10 dataset and convert it to a binary classification problem (e.g., cars vs. airplanes).\n",
        "    - Fine-tune the model and report the test accuracy."
      ],
      "metadata": {
        "id": "Nagj4z5ZxVTN"
      }
    },
    {
      "cell_type": "code",
      "source": [
        "import torch\n",
        "import torch.nn as nn\n",
        "import torch.optim as optim\n",
        "from torch.optim import lr_scheduler\n",
        "from torch.utils.data import DataLoader, Subset\n",
        "from torchvision import datasets, models, transforms\n",
        "import numpy as np\n",
        "import matplotlib.pyplot as plt\n",
        "import time\n",
        "import os\n",
        "\n",
        "device = torch.device(\"cuda:0\" if torch.cuda.is_available() else \"cpu\")"
      ],
      "metadata": {
        "id": "4HAaUKYHeGxT"
      },
      "execution_count": 69,
      "outputs": []
    },
    {
      "cell_type": "markdown",
      "source": [
        "### Data Preparation"
      ],
      "metadata": {
        "id": "Z356JZhAxmIv"
      }
    },
    {
      "cell_type": "code",
      "source": [
        "# Data transformations (normalization and augmentation)\n",
        "data_transforms = {\n",
        "    'train': transforms.Compose([\n",
        "        transforms.RandomHorizontalFlip(),\n",
        "        transforms.RandomResizedCrop(224),\n",
        "        transforms.ToTensor(),\n",
        "        transforms.Normalize([0.485, 0.456, 0.406], [0.229, 0.224, 0.225])\n",
        "    ]),\n",
        "    'val': transforms.Compose([\n",
        "        transforms.Resize(256),\n",
        "        transforms.CenterCrop(224),\n",
        "        transforms.ToTensor(),\n",
        "        transforms.Normalize([0.485, 0.456, 0.406], [0.229, 0.224, 0.225])\n",
        "    ]),\n",
        "}\n",
        "\n",
        "# Load the CIFAR-10 dataset\n",
        "train_dataset = datasets.CIFAR10(root='./data', train=True, download=True, transform=data_transforms['train'])\n",
        "val_dataset = datasets.CIFAR10(root='./data', train=False, download=True, transform=data_transforms['val'])\n",
        "\n",
        "# Filter only cars (label 1) and airplanes (label 0)\n",
        "classes_to_keep = [0, 1]  # airplane and car\n",
        "train_indices = [i for i, (x, y) in enumerate(train_dataset) if y in classes_to_keep]\n",
        "val_indices = [i for i, (x, y) in enumerate(val_dataset) if y in classes_to_keep]\n",
        "\n",
        "train_dataset = Subset(train_dataset, train_indices)\n",
        "val_dataset = Subset(val_dataset, val_indices)"
      ],
      "metadata": {
        "colab": {
          "base_uri": "https://localhost:8080/"
        },
        "id": "Zt3bmvchxfmQ",
        "outputId": "2147923d-55dc-4167-d539-dba4891dc8ab"
      },
      "execution_count": 70,
      "outputs": [
        {
          "output_type": "stream",
          "name": "stdout",
          "text": [
            "Files already downloaded and verified\n",
            "Files already downloaded and verified\n"
          ]
        }
      ]
    },
    {
      "cell_type": "code",
      "source": [
        "# # Modify labels to binary\n",
        "def modify_labels(dataset):\n",
        "    for i in range(len(dataset)):\n",
        "        _, label = dataset[i]\n",
        "        if label == 0:  # Airplane\n",
        "            dataset.dataset.targets[dataset.indices[i]] = 0\n",
        "        else:  # Car\n",
        "            dataset.dataset.targets[dataset.indices[i]] = 1\n",
        "\n",
        "modify_labels(train_dataset)\n",
        "modify_labels(val_dataset)\n",
        "\n",
        "# DataLoader\n",
        "train_loader = DataLoader(train_dataset, batch_size=32, shuffle=True, num_workers=4)\n",
        "val_loader = DataLoader(val_dataset, batch_size=32, shuffle=False, num_workers=4)"
      ],
      "metadata": {
        "colab": {
          "base_uri": "https://localhost:8080/"
        },
        "id": "qNJJwllDoRB0",
        "outputId": "2280e5ce-2910-405c-fced-3f3fd14fec67"
      },
      "execution_count": 71,
      "outputs": [
        {
          "output_type": "stream",
          "name": "stderr",
          "text": [
            "/usr/local/lib/python3.10/dist-packages/torch/utils/data/dataloader.py:557: UserWarning: This DataLoader will create 4 worker processes in total. Our suggested max number of worker in current system is 2, which is smaller than what this DataLoader is going to create. Please be aware that excessive worker creation might get DataLoader running slow or even freeze, lower the worker number to avoid potential slowness/freeze if necessary.\n",
            "  warnings.warn(_create_warning_msg(\n"
          ]
        }
      ]
    },
    {
      "cell_type": "code",
      "source": [
        "dataset_sizes = {'train': len(train_loader.dataset), 'val': len(val_loader.dataset)}\n",
        "dataset_sizes"
      ],
      "metadata": {
        "colab": {
          "base_uri": "https://localhost:8080/"
        },
        "id": "Ylze1U_Lp0nz",
        "outputId": "7d523bb5-0443-4087-c2eb-3a4861e748bf"
      },
      "execution_count": 72,
      "outputs": [
        {
          "output_type": "execute_result",
          "data": {
            "text/plain": [
              "{'train': 10000, 'val': 2000}"
            ]
          },
          "metadata": {},
          "execution_count": 72
        }
      ]
    },
    {
      "cell_type": "markdown",
      "source": [
        "### Load Pretrained ResNet and Modify the Last Layer"
      ],
      "metadata": {
        "id": "VWi9A4xnxutM"
      }
    },
    {
      "cell_type": "code",
      "source": [
        "# Load pretrained ResNet18 model\n",
        "model = models.resnet18(pretrained=True)\n",
        "\n",
        "# Modify the last layer\n",
        "num_ftrs = model.fc.in_features\n",
        "model.fc = nn.Linear(num_ftrs, 2)\n",
        "\n",
        "model = model.to(device)\n",
        "\n",
        "# Loss function and optimizer\n",
        "criterion = nn.CrossEntropyLoss()\n",
        "optimizer = optim.SGD(model.parameters(), lr=0.001, momentum=0.9)\n",
        "scheduler = lr_scheduler.StepLR(optimizer, step_size=7, gamma=0.1)"
      ],
      "metadata": {
        "id": "FDh9EoTxxpyX",
        "colab": {
          "base_uri": "https://localhost:8080/"
        },
        "outputId": "a81d3187-201e-440a-e32d-39c72571c55f"
      },
      "execution_count": 73,
      "outputs": [
        {
          "output_type": "stream",
          "name": "stderr",
          "text": [
            "/usr/local/lib/python3.10/dist-packages/torchvision/models/_utils.py:208: UserWarning: The parameter 'pretrained' is deprecated since 0.13 and may be removed in the future, please use 'weights' instead.\n",
            "  warnings.warn(\n",
            "/usr/local/lib/python3.10/dist-packages/torchvision/models/_utils.py:223: UserWarning: Arguments other than a weight enum or `None` for 'weights' are deprecated since 0.13 and may be removed in the future. The current behavior is equivalent to passing `weights=ResNet18_Weights.IMAGENET1K_V1`. You can also use `weights=ResNet18_Weights.DEFAULT` to get the most up-to-date weights.\n",
            "  warnings.warn(msg)\n",
            "Downloading: \"https://download.pytorch.org/models/resnet18-f37072fd.pth\" to /root/.cache/torch/hub/checkpoints/resnet18-f37072fd.pth\n",
            "100%|██████████| 44.7M/44.7M [00:00<00:00, 183MB/s]\n"
          ]
        }
      ]
    },
    {
      "cell_type": "markdown",
      "source": [
        "### Train and Fine-tune the Model\n"
      ],
      "metadata": {
        "id": "HzL_fN38yMl4"
      }
    },
    {
      "cell_type": "code",
      "source": [
        "def train_model(model, criterion, optimizer, scheduler, num_epochs=25):\n",
        "    since = time.time()\n",
        "\n",
        "    best_acc = 0.0\n",
        "\n",
        "    for epoch in range(num_epochs):\n",
        "        print(f'Epoch {epoch}/{num_epochs - 1}')\n",
        "        print('-' * 10)\n",
        "\n",
        "        # Each epoch has a training and validation phase\n",
        "        for phase in ['train', 'val']:\n",
        "            if phase == 'train':\n",
        "                model.train()  # Set model to training mode\n",
        "            else:\n",
        "                model.eval()   # Set model to evaluate mode\n",
        "\n",
        "            running_loss = 0.0\n",
        "            running_corrects = 0\n",
        "\n",
        "            # Iterate over data\n",
        "            dataloader = train_loader if phase == 'train' else val_loader\n",
        "            for inputs, labels in dataloader:\n",
        "                inputs = inputs.to(device)\n",
        "                labels = labels.to(device)\n",
        "\n",
        "                # Zero the parameter gradients\n",
        "                optimizer.zero_grad()\n",
        "\n",
        "                # Forward pass\n",
        "                with torch.set_grad_enabled(phase == 'train'):\n",
        "                    outputs = model(inputs)\n",
        "                    _, preds = torch.max(outputs, 1)\n",
        "                    loss = criterion(outputs, labels)\n",
        "\n",
        "                    # Backward pass and optimize in training phase\n",
        "                    if phase == 'train':\n",
        "                        loss.backward()\n",
        "                        optimizer.step()\n",
        "\n",
        "                running_loss += loss.item() * inputs.size(0)\n",
        "                running_corrects += torch.sum(preds == labels.data)\n",
        "\n",
        "            if phase == 'train':\n",
        "                scheduler.step()\n",
        "\n",
        "            epoch_loss = running_loss / dataset_sizes[phase]\n",
        "            epoch_acc = running_corrects.double() / dataset_sizes[phase]\n",
        "\n",
        "            print(f'{phase} Loss: {epoch_loss:.4f} Acc: {epoch_acc:.4f}')\n",
        "\n",
        "            # Deep copy the model if it performs better\n",
        "            if phase == 'val' and epoch_acc > best_acc:\n",
        "                best_acc = epoch_acc\n",
        "                best_model_wts = model.state_dict()\n",
        "\n",
        "    time_elapsed = time.time() - since\n",
        "    print(f'Training complete in {time_elapsed // 60:.0f}m {time_elapsed % 60:.0f}s')\n",
        "    print(f'Best val Acc: {best_acc:.4f}')\n",
        "\n",
        "    return model\n",
        "\n",
        "# Train the model\n",
        "model_ft = train_model(model, criterion, optimizer, scheduler, num_epochs=10)"
      ],
      "metadata": {
        "colab": {
          "base_uri": "https://localhost:8080/"
        },
        "id": "Z8TRqHevyLR-",
        "outputId": "eb649bb6-b94f-4c83-c9eb-15aa6095e799"
      },
      "execution_count": 74,
      "outputs": [
        {
          "output_type": "stream",
          "name": "stdout",
          "text": [
            "Epoch 0/9\n",
            "----------\n",
            "train Loss: 0.2792 Acc: 0.8769\n",
            "val Loss: 0.0755 Acc: 0.9680\n",
            "Epoch 1/9\n",
            "----------\n",
            "train Loss: 0.1861 Acc: 0.9213\n",
            "val Loss: 0.0364 Acc: 0.9885\n",
            "Epoch 2/9\n",
            "----------\n",
            "train Loss: 0.1596 Acc: 0.9343\n",
            "val Loss: 0.0314 Acc: 0.9910\n",
            "Epoch 3/9\n",
            "----------\n",
            "train Loss: 0.1525 Acc: 0.9338\n",
            "val Loss: 0.0269 Acc: 0.9915\n",
            "Epoch 4/9\n",
            "----------\n",
            "train Loss: 0.1306 Acc: 0.9449\n",
            "val Loss: 0.0275 Acc: 0.9925\n",
            "Epoch 5/9\n",
            "----------\n",
            "train Loss: 0.1229 Acc: 0.9509\n",
            "val Loss: 0.0260 Acc: 0.9925\n",
            "Epoch 6/9\n",
            "----------\n",
            "train Loss: 0.1199 Acc: 0.9516\n",
            "val Loss: 0.0200 Acc: 0.9910\n",
            "Epoch 7/9\n",
            "----------\n",
            "train Loss: 0.1057 Acc: 0.9559\n",
            "val Loss: 0.0154 Acc: 0.9955\n",
            "Epoch 8/9\n",
            "----------\n",
            "train Loss: 0.1098 Acc: 0.9551\n",
            "val Loss: 0.0191 Acc: 0.9935\n",
            "Epoch 9/9\n",
            "----------\n",
            "train Loss: 0.1056 Acc: 0.9555\n",
            "val Loss: 0.0170 Acc: 0.9950\n",
            "Training complete in 6m 23s\n",
            "Best val Acc: 0.9955\n"
          ]
        }
      ]
    },
    {
      "cell_type": "markdown",
      "source": [
        "### **5. Save and Load Models**\n",
        "\n",
        "- **Task**: Save a trained model to disk and then load it back to evaluate:\n",
        "    - After training a model on any dataset (e.g., MNIST or CIFAR10), save the model’s state dictionary.\n",
        "    - Write a separate script that loads the saved model and evaluates it on the test data."
      ],
      "metadata": {
        "id": "WnJ5cldI0YBj"
      }
    },
    {
      "cell_type": "code",
      "source": [
        "# Save the trained model's state dictionary\n",
        "torch.save(model_ft.state_dict(), 'resnet18_cifar10_binary.pth')\n",
        "print(\"Model saved successfully!\")"
      ],
      "metadata": {
        "colab": {
          "base_uri": "https://localhost:8080/"
        },
        "id": "AyNI2kDfyat9",
        "outputId": "9c511e14-37d4-40b0-f717-8ca6ac21c0b2"
      },
      "execution_count": 75,
      "outputs": [
        {
          "output_type": "stream",
          "name": "stdout",
          "text": [
            "Model saved successfully!\n"
          ]
        }
      ]
    },
    {
      "cell_type": "code",
      "source": [
        "def modify_labels(dataset):\n",
        "    for i in range(len(dataset)):\n",
        "        _, label = dataset[i]\n",
        "        if label == 0:  # Airplane\n",
        "            dataset.dataset.targets[dataset.indices[i]] = 0\n",
        "        else:  # Car\n",
        "            dataset.dataset.targets[dataset.indices[i]] = 1\n",
        "\n",
        "modify_labels(val_dataset)\n",
        "\n",
        "# Create DataLoader for the validation set\n",
        "val_loader = DataLoader(val_dataset, batch_size=32, shuffle=False, num_workers=4)\n",
        "\n",
        "# Load the pretrained ResNet18 model and modify the last layer\n",
        "model = models.resnet18(pretrained=False)\n",
        "num_ftrs = model.fc.in_features\n",
        "model.fc = nn.Linear(num_ftrs, 2)\n",
        "\n",
        "# Load the saved model state\n",
        "model.load_state_dict(torch.load('resnet18_cifar10_binary.pth'))\n",
        "model = model.to(device)\n",
        "model.eval()  # Set the model to evaluation mode\n",
        "\n",
        "# Evaluate the model\n",
        "correct = 0\n",
        "total = 0\n",
        "\n",
        "with torch.no_grad():\n",
        "    for inputs, labels in val_loader:\n",
        "        inputs, labels = inputs.to(device), labels.to(device)\n",
        "        outputs = model(inputs)\n",
        "        _, predicted = torch.max(outputs, 1)\n",
        "        total += labels.size(0)\n",
        "        correct += (predicted == labels).sum().item()\n",
        "\n",
        "accuracy = 100 * correct / total\n",
        "print(f'Test Accuracy: {accuracy:.2f}%')"
      ],
      "metadata": {
        "colab": {
          "base_uri": "https://localhost:8080/"
        },
        "id": "P0ilXbPT0ot5",
        "outputId": "d9ef3f01-55f0-4a0c-f339-adc9e63ba1af"
      },
      "execution_count": 76,
      "outputs": [
        {
          "output_type": "stream",
          "name": "stderr",
          "text": [
            "/usr/local/lib/python3.10/dist-packages/torchvision/models/_utils.py:223: UserWarning: Arguments other than a weight enum or `None` for 'weights' are deprecated since 0.13 and may be removed in the future. The current behavior is equivalent to passing `weights=None`.\n",
            "  warnings.warn(msg)\n",
            "<ipython-input-76-77321ad6c50b>:20: FutureWarning: You are using `torch.load` with `weights_only=False` (the current default value), which uses the default pickle module implicitly. It is possible to construct malicious pickle data which will execute arbitrary code during unpickling (See https://github.com/pytorch/pytorch/blob/main/SECURITY.md#untrusted-models for more details). In a future release, the default value for `weights_only` will be flipped to `True`. This limits the functions that could be executed during unpickling. Arbitrary objects will no longer be allowed to be loaded via this mode unless they are explicitly allowlisted by the user via `torch.serialization.add_safe_globals`. We recommend you start setting `weights_only=True` for any use case where you don't have full control of the loaded file. Please open an issue on GitHub for any issues related to this experimental feature.\n",
            "  model.load_state_dict(torch.load('resnet18_cifar10_binary.pth'))\n"
          ]
        },
        {
          "output_type": "stream",
          "name": "stdout",
          "text": [
            "Test Accuracy: 99.50%\n"
          ]
        }
      ]
    }
  ]
}